{
 "cells": [
  {
   "cell_type": "markdown",
   "metadata": {},
   "source": [
    "# Character-Level LSTM in PyTorch\n",
    "\n",
    "The network will train character by character on some text, then generate new text character by character. As an example, it'll use the text of \"Alice in Wonderland\". **This model will be able to generate new text based on the text from the book!**\n",
    "\n",
    "This network is based off of Andrej Karpathy's [post on RNNs](http://karpathy.github.io/2015/05/21/rnn-effectiveness/) and [implementation in Torch](https://github.com/karpathy/char-rnn). Below is the general architecture of the character-wise RNN.\n",
    "\n",
    "<img src=\"assets/charseq.jpeg\" width=\"500\">"
   ]
  },
  {
   "cell_type": "markdown",
   "metadata": {},
   "source": [
    "First let's load in our required resources for data loading and model creation."
   ]
  },
  {
   "cell_type": "code",
   "execution_count": 1,
   "metadata": {},
   "outputs": [],
   "source": [
    "import numpy as np\n",
    "import torch\n",
    "from torch import nn\n",
    "import torch.nn.functional as F"
   ]
  },
  {
   "cell_type": "markdown",
   "metadata": {},
   "source": [
    "## Load in Data\n",
    "\n",
    "Then, we'll load the \"Alice in Wonderland\" text file and convert it into integers for our network to use. "
   ]
  },
  {
   "cell_type": "code",
   "execution_count": 2,
   "metadata": {},
   "outputs": [],
   "source": [
    "# open text file and read in data as `text`\n",
    "with open('data/alice.txt', 'r') as f:\n",
    "    text = f.read()"
   ]
  },
  {
   "cell_type": "markdown",
   "metadata": {},
   "source": [
    "Let's check out the first 100 characters, make sure everything is peachy."
   ]
  },
  {
   "cell_type": "code",
   "execution_count": 3,
   "metadata": {},
   "outputs": [
    {
     "data": {
      "text/plain": [
       "'Alice’s Adventures in Wonderland\\n\\nby Lewis Carroll\\n\\nTHE MILLENNIUM FULCRUM EDITION 3.0\\n\\nContents\\n\\n C'"
      ]
     },
     "execution_count": 3,
     "metadata": {},
     "output_type": "execute_result"
    }
   ],
   "source": [
    "text[:100]"
   ]
  },
  {
   "cell_type": "markdown",
   "metadata": {},
   "source": [
    "### Tokenization\n",
    "\n",
    "In the cells, below, I'm creating a couple **dictionaries** to convert the characters to and from integers. Encoding the characters as integers makes it easier to use as input in the network."
   ]
  },
  {
   "cell_type": "code",
   "execution_count": 4,
   "metadata": {},
   "outputs": [],
   "source": [
    "# encode the text and map each character to an integer and vice versa\n",
    "\n",
    "# we create two dictionaries:\n",
    "# 1. int2char, which maps integers to characters\n",
    "# 2. char2int, which maps characters to unique integers\n",
    "chars = tuple(set(text))\n",
    "int2char = dict(enumerate(chars))\n",
    "char2int = {ch: ii for ii, ch in int2char.items()}\n",
    "\n",
    "# encode the text\n",
    "encoded = np.array([char2int[ch] for ch in text])"
   ]
  },
  {
   "cell_type": "markdown",
   "metadata": {},
   "source": [
    "And we can see those same characters from above, encoded as integers."
   ]
  },
  {
   "cell_type": "code",
   "execution_count": 5,
   "metadata": {},
   "outputs": [
    {
     "data": {
      "text/plain": [
       "array([83, 52, 37, 42, 62, 73,  5, 87, 83, 82, 43, 62, 60, 68, 71, 59, 62,\n",
       "        5, 87, 37, 60, 87, 36, 86, 60, 82, 62, 59, 52, 24, 60, 82, 70, 70,\n",
       "       47, 23, 87, 35, 62, 76, 37,  5, 87, 85, 24, 59, 59, 86, 52, 52, 70,\n",
       "       70, 63,  9, 20, 87,  2, 21, 35, 35, 20, 25, 25, 21, 79,  2, 87, 17,\n",
       "       79, 35, 85, 75, 79,  2, 87, 20, 26, 21, 63, 21,  7, 25, 87, 57, 38,\n",
       "       80, 70, 70, 85, 86, 60, 68, 62, 60, 68,  5, 70, 70, 87, 85])"
      ]
     },
     "execution_count": 5,
     "metadata": {},
     "output_type": "execute_result"
    }
   ],
   "source": [
    "encoded[:100]"
   ]
  },
  {
   "cell_type": "markdown",
   "metadata": {},
   "source": [
    "## Pre-processing the data\n",
    "\n",
    "As you can see in our char-RNN image above, our LSTM expects an input that is **one-hot encoded** meaning that each character is converted into an integer (via our created dictionary) and *then* converted into a column vector where only it's corresponding integer index will have the value of 1 and the rest of the vector will be filled with 0's. Since we're one-hot encoding the data, let's make a function to do that!\n"
   ]
  },
  {
   "cell_type": "code",
   "execution_count": 6,
   "metadata": {},
   "outputs": [],
   "source": [
    "def one_hot_encode(arr, n_labels):\n",
    "    \n",
    "    # Initialize the the encoded array\n",
    "    one_hot = np.zeros((np.multiply(*arr.shape), n_labels), dtype=np.float32)\n",
    "    \n",
    "    # Fill the appropriate elements with ones\n",
    "    one_hot[np.arange(one_hot.shape[0]), arr.flatten()] = 1.\n",
    "    \n",
    "    # Finally reshape it to get back to the original array\n",
    "    one_hot = one_hot.reshape((*arr.shape, n_labels))\n",
    "    \n",
    "    return one_hot"
   ]
  },
  {
   "cell_type": "code",
   "execution_count": 7,
   "metadata": {},
   "outputs": [
    {
     "name": "stdout",
     "output_type": "stream",
     "text": [
      "[[[0. 0. 0. 1. 0. 0. 0. 0.]\n",
      "  [0. 0. 0. 0. 0. 1. 0. 0.]\n",
      "  [0. 1. 0. 0. 0. 0. 0. 0.]]]\n"
     ]
    }
   ],
   "source": [
    "# check that the function works as expected\n",
    "test_seq = np.array([[3, 5, 1]])\n",
    "one_hot = one_hot_encode(test_seq, 8)\n",
    "\n",
    "print(one_hot)"
   ]
  },
  {
   "cell_type": "markdown",
   "metadata": {},
   "source": [
    "## Making training mini-batches\n",
    "\n",
    "\n",
    "To train on this data, we also want to create mini-batches for training. Remember that we want our batches to be multiple sequences of some desired number of sequence steps. Considering a simple example, our batches would look like this:\n",
    "\n",
    "<img src=\"assets/sequence_batching@1x.png\" width=500px>\n",
    "\n",
    "\n",
    "<br>\n",
    "\n",
    "In this example, we'll take the encoded characters (passed in as the `arr` parameter) and split them into multiple sequences, given by `batch_size`. Each of our sequences will be `seq_length` long.\n",
    "\n",
    "### Creating Batches\n",
    "\n",
    "**1. The first thing we need to do is discard some of the text so we only have completely full mini-batches. **\n",
    "\n",
    "Each batch contains $N \\times M$ characters, where $N$ is the batch size (the number of sequences in a batch) and $M$ is the seq_length or number of time steps in a sequence. Then, to get the total number of batches, $K$, that we can make from the array `arr`, you divide the length of `arr` by the number of characters per batch. Once you know the number of batches, you can get the total number of characters to keep from `arr`, $N * M * K$.\n",
    "\n",
    "**2. After that, we need to split `arr` into $N$ batches. ** \n",
    "\n",
    "You can do this using `arr.reshape(size)` where `size` is a tuple containing the dimensions sizes of the reshaped array. We know we want $N$ sequences in a batch, so let's make that the size of the first dimension. For the second dimension, you can use `-1` as a placeholder in the size, it'll fill up the array with the appropriate data for you. After this, you should have an array that is $N \\times (M * K)$.\n",
    "\n",
    "**3. Now that we have this array, we can iterate through it to get our mini-batches. **\n",
    "\n",
    "The idea is each batch is a $N \\times M$ window on the $N \\times (M * K)$ array. For each subsequent batch, the window moves over by `seq_length`. We also want to create both the input and target arrays. Remember that the targets are just the inputs shifted over by one character. The way I like to do this window is use `range` to take steps of size `n_steps` from $0$ to `arr.shape[1]`, the total number of tokens in each sequence. That way, the integers you get from `range` always point to the start of a batch, and each window is `seq_length` wide."
   ]
  },
  {
   "cell_type": "code",
   "execution_count": 8,
   "metadata": {},
   "outputs": [],
   "source": [
    "def get_batches(arr, batch_size, seq_length):\n",
    "    '''Create a generator that returns batches of size\n",
    "       batch_size x seq_length from arr.\n",
    "       \n",
    "       Arguments\n",
    "       ---------\n",
    "       arr: Array you want to make batches from\n",
    "       batch_size: Batch size, the number of sequences per batch\n",
    "       seq_length: Number of encoded chars in a sequence\n",
    "    '''\n",
    "    ## TODO: Get the number of batches we can make\n",
    "    n_batches = len(arr) // seq_length // batch_size\n",
    "    \n",
    "    ## TODO: Keep only enough characters to make full batches\n",
    "    arr = arr[:seq_length * batch_size * n_batches]\n",
    "    \n",
    "    ## TODO: Reshape into batch_size rows\n",
    "    arr = arr.reshape(batch_size, -1)\n",
    "    \n",
    "    ## TODO: Iterate over the batches using a window of size seq_length\n",
    "    for n in range(0, n_batches - 1):\n",
    "        # The features\n",
    "        x = arr[:, seq_length * n: seq_length * (n + 1)]\n",
    "        # The targets, shifted by one\n",
    "        y = arr[:, seq_length * n + 1: seq_length * (n + 1) + 1]\n",
    "        yield x, y"
   ]
  },
  {
   "cell_type": "markdown",
   "metadata": {},
   "source": [
    "### Test Your Implementation\n",
    "\n",
    "Now I'll make some data sets and we can check out what's going on as we batch data. Here, as an example, I'm going to use a batch size of 8 and 50 sequence steps."
   ]
  },
  {
   "cell_type": "code",
   "execution_count": 9,
   "metadata": {},
   "outputs": [],
   "source": [
    "batches = get_batches(encoded, 8, 50)\n",
    "x, y = next(batches)"
   ]
  },
  {
   "cell_type": "code",
   "execution_count": 10,
   "metadata": {},
   "outputs": [
    {
     "name": "stdout",
     "output_type": "stream",
     "text": [
      "x\n",
      " [[83 52 37 42 62 73  5 87 83 82]\n",
      " [ 0 86 87  5 65 62 87 47 62 67]\n",
      " [86 71 52 82 12 87 24 60 82 87]\n",
      " [61 87 68 65 62 87 17 86 86 68]\n",
      " [ 5 24 37 82 12 87  3 21 68 87]\n",
      " [24 59 67 62 87 45 71  5 68 24]\n",
      " [86 87 22 70 62 60 60 23 76 86]\n",
      " [62 24 60 37 60 67 87 65 62 59]]\n",
      "\n",
      "y\n",
      " [[52 37 42 62 73  5 87 83 82 43]\n",
      " [86 87  5 65 62 87 47 62 67 24]\n",
      " [71 52 82 12 87 24 60 82 87 76]\n",
      " [87 68 65 62 87 17 86 86 68 45]\n",
      " [24 37 82 12 87  3 21 68 87 76]\n",
      " [59 67 62 87 45 71  5 68 24 59]\n",
      " [87 22 70 62 60 60 23 76 86 59]\n",
      " [24 60 37 60 67 87 65 62 59 87]]\n"
     ]
    }
   ],
   "source": [
    "# printing out the first 10 items in a sequence\n",
    "print('x\\n', x[:10, :10])\n",
    "print('\\ny\\n', y[:10, :10])"
   ]
  },
  {
   "cell_type": "markdown",
   "metadata": {},
   "source": [
    "If you implemented `get_batches` correctly, the above output should look something like \n",
    "```\n",
    "x\n",
    " [[25  8 60 11 45 27 28 73  1  2]\n",
    " [17  7 20 73 45  8 60 45 73 60]\n",
    " [27 20 80 73  7 28 73 60 73 65]\n",
    " [17 73 45  8 27 73 66  8 46 27]\n",
    " [73 17 60 12 73  8 27 28 73 45]\n",
    " [66 64 17 17 46  7 20 73 60 20]\n",
    " [73 76 20 20 60 73  8 60 80 73]\n",
    " [47 35 43  7 20 17 24 50 37 73]]\n",
    "\n",
    "y\n",
    " [[ 8 60 11 45 27 28 73  1  2  2]\n",
    " [ 7 20 73 45  8 60 45 73 60 45]\n",
    " [20 80 73  7 28 73 60 73 65  7]\n",
    " [73 45  8 27 73 66  8 46 27 65]\n",
    " [17 60 12 73  8 27 28 73 45 27]\n",
    " [64 17 17 46  7 20 73 60 20 80]\n",
    " [76 20 20 60 73  8 60 80 73 17]\n",
    " [35 43  7 20 17 24 50 37 73 36]]\n",
    " ```\n",
    " although the exact numbers may be different. Check to make sure the data is shifted over one step for `y`."
   ]
  },
  {
   "cell_type": "markdown",
   "metadata": {},
   "source": [
    "---\n",
    "## Defining the network with PyTorch\n",
    "\n",
    "Below is where you'll define the network.\n",
    "\n",
    "<img src=\"assets/charRNN.png\" width=500px>\n",
    "\n",
    "Next, you'll use PyTorch to define the architecture of the network. We start by defining the layers and operations we want. Then, define a method for the forward pass. You've also been given a method for predicting characters."
   ]
  },
  {
   "cell_type": "markdown",
   "metadata": {},
   "source": [
    "### Model Structure\n",
    "\n",
    "In `__init__` the suggested structure is as follows:\n",
    "* Create and store the necessary dictionaries (this has been done for you)\n",
    "* Define an LSTM layer that takes as params: an input size (the number of characters), a hidden layer size `n_hidden`, a number of layers `n_layers`, a dropout probability `drop_prob`, and a batch_first boolean (True, since we are batching)\n",
    "* Define a dropout layer with `dropout_prob`\n",
    "* Define a fully-connected layer with params: input size `n_hidden` and output size (the number of characters)\n",
    "* Finally, initialize the weights (again, this has been given)\n",
    "\n",
    "Note that some parameters have been named and given in the `__init__` function, and we use them and store them by doing something like `self.drop_prob = drop_prob`."
   ]
  },
  {
   "cell_type": "markdown",
   "metadata": {},
   "source": [
    "---\n",
    "### LSTM Inputs/Outputs\n",
    "\n",
    "You can create a basic [LSTM layer](https://pytorch.org/docs/stable/nn.html#lstm) as follows\n",
    "\n",
    "```python\n",
    "self.lstm = nn.LSTM(input_size, n_hidden, n_layers, \n",
    "                            dropout=drop_prob, batch_first=True)\n",
    "```\n",
    "\n",
    "where `input_size` is the number of characters this cell expects to see as sequential input, and `n_hidden` is the number of units in the hidden layers in the cell. And we can add dropout by adding a dropout parameter with a specified probability; this will automatically add dropout to the inputs or outputs. Finally, in the `forward` function, we can stack up the LSTM cells into layers using `.view`. With this, you pass in a list of cells and it will send the output of one cell into the next cell.\n",
    "\n",
    "We also need to create an initial hidden state of all zeros. This is done like so\n",
    "\n",
    "```python\n",
    "self.init_hidden()\n",
    "```"
   ]
  },
  {
   "cell_type": "code",
   "execution_count": 11,
   "metadata": {},
   "outputs": [
    {
     "name": "stdout",
     "output_type": "stream",
     "text": [
      "No GPU available, training on CPU; consider making n_epochs very small.\n"
     ]
    }
   ],
   "source": [
    "# check if GPU is available (replace with \"backends.cuda\" below if Nvidia GPU is available)\n",
    "train_on_gpu = torch.backends.mps.is_available()\n",
    "device = \"cpu\"\n",
    "if(train_on_gpu):\n",
    "    print('Training on GPU!')\n",
    "    device = \"mps\"\n",
    "else: \n",
    "    print('No GPU available, training on CPU; consider making n_epochs very small.')"
   ]
  },
  {
   "cell_type": "code",
   "execution_count": 12,
   "metadata": {},
   "outputs": [],
   "source": [
    "class CharRNN(nn.Module):\n",
    "    \n",
    "    def __init__(self, tokens, n_hidden=256, n_layers=2,\n",
    "                               drop_prob=0.5, lr=0.001):\n",
    "        super().__init__()\n",
    "        self.drop_prob = drop_prob\n",
    "        self.n_layers = n_layers\n",
    "        self.n_hidden = n_hidden\n",
    "        self.lr = lr\n",
    "        \n",
    "        # creating character dictionaries\n",
    "        self.chars = tokens\n",
    "        self.int2char = dict(enumerate(self.chars))\n",
    "        self.char2int = {ch: ii for ii, ch in self.int2char.items()}\n",
    "        \n",
    "        ## TODO: define the layers of the model\n",
    "        self.lstm = nn.LSTM(len(tokens), n_hidden, n_layers, dropout=drop_prob, batch_first=True)\n",
    "        \n",
    "        ## TODO: define a dropout layer\n",
    "        self.dropout = nn.Dropout(drop_prob)\n",
    "        \n",
    "        ## TODO: define the final, fully-connected output layer\n",
    "        self.fc = nn.LazyLinear(len(tokens))\n",
    "    \n",
    " \n",
    "    def forward(self, x, hidden):\n",
    "        ''' Forward pass through the network. \n",
    "            These inputs are x, and the hidden/cell state `hidden`. '''\n",
    "        ## TODO: Get the outputs and the new hidden state from the lstm\n",
    "        r_output, hidden = self.lstm(x, hidden)\n",
    "        ## TODO: pass through a dropout layer\n",
    "        out = self.dropout(r_output)\n",
    "        # Stack up LSTM outputs using view\n",
    "        # you may need to use contiguous to reshape the output\n",
    "        out = out.contiguous().view(-1, self.n_hidden)\n",
    "        ## TODO: put x through the fully-connected layer\n",
    "        out = self.fc(out)\n",
    "        # return the final output and the hidden state\n",
    "        return out, hidden\n",
    "    \n",
    "    \n",
    "    def init_hidden(self, batch_size):\n",
    "        ''' Initializes hidden state '''\n",
    "        # Create two new tensors with sizes n_layers x batch_size x n_hidden,\n",
    "        # initialized to zero, for hidden state and cell state of LSTM\n",
    "        weight = next(self.parameters()).data\n",
    "        \n",
    "        if (train_on_gpu):\n",
    "            hidden = (weight.new(self.n_layers, batch_size, self.n_hidden).zero_().to(device),\n",
    "                  weight.new(self.n_layers, batch_size, self.n_hidden).zero_().to(device))\n",
    "        else:\n",
    "            hidden = (weight.new(self.n_layers, batch_size, self.n_hidden).zero_(),\n",
    "                      weight.new(self.n_layers, batch_size, self.n_hidden).zero_())\n",
    "        \n",
    "        return hidden\n",
    "        "
   ]
  },
  {
   "cell_type": "markdown",
   "metadata": {},
   "source": [
    "## Time to train\n",
    "\n",
    "The train function gives us the ability to set the number of epochs, the learning rate, and other parameters.\n",
    "\n",
    "Below we're using an Adam optimizer and cross entropy loss since we are looking at character class scores as output. We calculate the loss and perform backpropagation, as usual!\n",
    "\n",
    "A couple of details about training: \n",
    ">* Within the batch loop, we detach the hidden state from its history; this time setting it equal to a new *tuple* variable because an LSTM has a hidden state that is a tuple of the hidden and cell states.\n",
    "* We use [`clip_grad_norm_`](https://pytorch.org/docs/stable/_modules/torch/nn/utils/clip_grad.html) to help prevent exploding gradients."
   ]
  },
  {
   "cell_type": "code",
   "execution_count": 13,
   "metadata": {},
   "outputs": [],
   "source": [
    "def train(net, data, epochs=10, batch_size=10, seq_length=50, lr=0.001, clip=5, val_frac=0.1, print_every=10):\n",
    "    ''' Training a network \n",
    "    \n",
    "        Arguments\n",
    "        ---------\n",
    "        \n",
    "        net: CharRNN network\n",
    "        data: text data to train the network\n",
    "        epochs: Number of epochs to train\n",
    "        batch_size: Number of mini-sequences per mini-batch, aka batch size\n",
    "        seq_length: Number of character steps per mini-batch\n",
    "        lr: learning rate\n",
    "        clip: gradient clipping\n",
    "        val_frac: Fraction of data to hold out for validation\n",
    "        print_every: Number of steps for printing training and validation loss\n",
    "    \n",
    "    '''\n",
    "    net.train()\n",
    "    \n",
    "    opt = torch.optim.Adam(net.parameters(), lr=lr)\n",
    "    criterion = nn.CrossEntropyLoss()\n",
    "    \n",
    "    # create training and validation data\n",
    "    val_idx = int(len(data)*(1-val_frac))\n",
    "    data, val_data = data[:val_idx], data[val_idx:]\n",
    "    \n",
    "    if(train_on_gpu):\n",
    "        net.to(device)\n",
    "    \n",
    "    counter = 0\n",
    "    n_chars = len(net.chars)\n",
    "    for e in range(epochs):\n",
    "        # initialize hidden state\n",
    "        h = net.init_hidden(batch_size)\n",
    "        \n",
    "        for x, y in get_batches(data, batch_size, seq_length):\n",
    "            counter += 1\n",
    "\n",
    "            # One-hot encode our data and make them Torch tensors\n",
    "            x = one_hot_encode(x, n_chars)\n",
    "            inputs, targets = torch.from_numpy(x), torch.from_numpy(y)\n",
    "            \n",
    "            if(train_on_gpu):\n",
    "                inputs, targets = inputs.to(device), targets.to(device)\n",
    "\n",
    "            # Creating new variables for the hidden state, otherwise\n",
    "            # we'd backprop through the entire training history\n",
    "            h = tuple([each.data for each in h])\n",
    "\n",
    "            # zero accumulated gradients\n",
    "            net.zero_grad()\n",
    "            \n",
    "            # get the output from the model\n",
    "            output, h = net(inputs, h)\n",
    "            \n",
    "            # calculate the loss and perform backprop\n",
    "            loss = criterion(output, targets.contiguous().view(batch_size*seq_length))\n",
    "            loss.backward()\n",
    "            # `clip_grad_norm` helps prevent the exploding gradient problem in RNNs / LSTMs.\n",
    "            nn.utils.clip_grad_norm_(net.parameters(), clip)\n",
    "            opt.step()\n",
    "            \n",
    "            # loss stats\n",
    "            if counter % print_every == 0:\n",
    "                # Get validation loss\n",
    "                val_h = net.init_hidden(batch_size)\n",
    "                val_losses = []\n",
    "                net.eval()\n",
    "                for x, y in get_batches(val_data, batch_size, seq_length):\n",
    "                    # One-hot encode our data and make them Torch tensors\n",
    "                    x = one_hot_encode(x, n_chars)\n",
    "                    x, y = torch.from_numpy(x), torch.from_numpy(y)\n",
    "                    \n",
    "                    # Creating new variables for the hidden state, otherwise\n",
    "                    # we'd backprop through the entire training history\n",
    "                    val_h = tuple([each.data for each in val_h])\n",
    "                    \n",
    "                    inputs, targets = x, y\n",
    "                    if(train_on_gpu):\n",
    "                        inputs, targets = inputs.to(device), targets.to(device)\n",
    "\n",
    "                    output, val_h = net(inputs, val_h)\n",
    "                    val_loss = criterion(output, targets.contiguous().view(batch_size*seq_length))\n",
    "                \n",
    "                    val_losses.append(val_loss.item())\n",
    "                \n",
    "                net.train() # reset to train mode after iterationg through validation data\n",
    "                \n",
    "                print(\"Epoch: {}/{}...\".format(e+1, epochs),\n",
    "                      \"Step: {}...\".format(counter),\n",
    "                      \"Loss: {:.4f}...\".format(loss.item()),\n",
    "                      \"Val Loss: {:.4f}\".format(np.mean(val_losses)))"
   ]
  },
  {
   "cell_type": "markdown",
   "metadata": {},
   "source": [
    "## Instantiating the model\n",
    "\n",
    "Now we can actually train the network. First we'll create the network itself, with some given hyperparameters. Then, define the mini-batches sizes, and start training!"
   ]
  },
  {
   "cell_type": "code",
   "execution_count": 18,
   "metadata": {},
   "outputs": [
    {
     "name": "stdout",
     "output_type": "stream",
     "text": [
      "CharRNN(\n",
      "  (lstm): LSTM(89, 128, num_layers=2, batch_first=True, dropout=0.5)\n",
      "  (dropout): Dropout(p=0.5, inplace=False)\n",
      "  (fc): LazyLinear(in_features=0, out_features=89, bias=True)\n",
      ")\n"
     ]
    }
   ],
   "source": [
    "## TODO: set you model hyperparameters\n",
    "# define and print the net\n",
    "n_hidden = 128\n",
    "n_layers = 2\n",
    "\n",
    "net = CharRNN(chars, n_hidden, n_layers)\n",
    "print(net)"
   ]
  },
  {
   "cell_type": "markdown",
   "metadata": {},
   "source": [
    "### Set your training hyperparameters!"
   ]
  },
  {
   "cell_type": "code",
   "execution_count": 19,
   "metadata": {
    "scrolled": true
   },
   "outputs": [
    {
     "name": "stdout",
     "output_type": "stream",
     "text": [
      "Epoch: 1/30... Step: 10... Loss: 4.1328... Val Loss: 3.9646\n",
      "Epoch: 1/30... Step: 20... Loss: 3.3949... Val Loss: 3.3491\n",
      "Epoch: 1/30... Step: 30... Loss: 3.2375... Val Loss: 3.3573\n",
      "Epoch: 1/30... Step: 40... Loss: 3.2332... Val Loss: 3.3481\n",
      "Epoch: 2/30... Step: 50... Loss: 3.2917... Val Loss: 3.3366\n",
      "Epoch: 2/30... Step: 60... Loss: 3.2389... Val Loss: 3.3407\n",
      "Epoch: 2/30... Step: 70... Loss: 3.2047... Val Loss: 3.3493\n",
      "Epoch: 2/30... Step: 80... Loss: 3.2005... Val Loss: 3.3463\n",
      "Epoch: 3/30... Step: 90... Loss: 3.2163... Val Loss: 3.3409\n",
      "Epoch: 3/30... Step: 100... Loss: 3.2036... Val Loss: 3.3404\n",
      "Epoch: 3/30... Step: 110... Loss: 3.2006... Val Loss: 3.3483\n",
      "Epoch: 3/30... Step: 120... Loss: 3.1770... Val Loss: 3.3497\n",
      "Epoch: 3/30... Step: 130... Loss: 3.2081... Val Loss: 3.3426\n",
      "Epoch: 4/30... Step: 140... Loss: 3.1969... Val Loss: 3.3372\n",
      "Epoch: 4/30... Step: 150... Loss: 3.1449... Val Loss: 3.3461\n",
      "Epoch: 4/30... Step: 160... Loss: 3.1960... Val Loss: 3.3432\n",
      "Epoch: 4/30... Step: 170... Loss: 3.1402... Val Loss: 3.3404\n",
      "Epoch: 5/30... Step: 180... Loss: 3.1953... Val Loss: 3.3201\n",
      "Epoch: 5/30... Step: 190... Loss: 3.1320... Val Loss: 3.3134\n",
      "Epoch: 5/30... Step: 200... Loss: 3.0861... Val Loss: 3.2990\n",
      "Epoch: 5/30... Step: 210... Loss: 3.0426... Val Loss: 3.2852\n",
      "Epoch: 5/30... Step: 220... Loss: 3.0243... Val Loss: 3.2677\n",
      "Epoch: 6/30... Step: 230... Loss: 3.0111... Val Loss: 3.2467\n",
      "Epoch: 6/30... Step: 240... Loss: 3.0345... Val Loss: 3.2394\n",
      "Epoch: 6/30... Step: 250... Loss: 2.8899... Val Loss: 3.2295\n",
      "Epoch: 6/30... Step: 260... Loss: 2.8891... Val Loss: 3.2215\n",
      "Epoch: 7/30... Step: 270... Loss: 2.9438... Val Loss: 3.1860\n",
      "Epoch: 7/30... Step: 280... Loss: 2.8375... Val Loss: 3.1725\n",
      "Epoch: 7/30... Step: 290... Loss: 2.7849... Val Loss: 3.1772\n",
      "Epoch: 7/30... Step: 300... Loss: 2.8014... Val Loss: 3.1573\n",
      "Epoch: 8/30... Step: 310... Loss: 2.8913... Val Loss: 3.1052\n",
      "Epoch: 8/30... Step: 320... Loss: 2.7471... Val Loss: 3.0756\n",
      "Epoch: 8/30... Step: 330... Loss: 2.6722... Val Loss: 3.0754\n",
      "Epoch: 8/30... Step: 340... Loss: 2.7155... Val Loss: 3.0826\n",
      "Epoch: 8/30... Step: 350... Loss: 2.6907... Val Loss: 3.0541\n",
      "Epoch: 9/30... Step: 360... Loss: 2.6625... Val Loss: 3.0277\n",
      "Epoch: 9/30... Step: 370... Loss: 2.5995... Val Loss: 3.0227\n",
      "Epoch: 9/30... Step: 380... Loss: 2.6710... Val Loss: 3.0294\n",
      "Epoch: 9/30... Step: 390... Loss: 2.6432... Val Loss: 3.0178\n",
      "Epoch: 10/30... Step: 400... Loss: 2.6921... Val Loss: 2.9900\n",
      "Epoch: 10/30... Step: 410... Loss: 2.5960... Val Loss: 2.9870\n",
      "Epoch: 10/30... Step: 420... Loss: 2.6184... Val Loss: 2.9829\n",
      "Epoch: 10/30... Step: 430... Loss: 2.5465... Val Loss: 2.9724\n",
      "Epoch: 10/30... Step: 440... Loss: 2.5392... Val Loss: 2.9660\n",
      "Epoch: 11/30... Step: 450... Loss: 2.5191... Val Loss: 2.9568\n",
      "Epoch: 11/30... Step: 460... Loss: 2.6123... Val Loss: 2.9489\n",
      "Epoch: 11/30... Step: 470... Loss: 2.4999... Val Loss: 2.9559\n",
      "Epoch: 11/30... Step: 480... Loss: 2.5162... Val Loss: 2.9360\n",
      "Epoch: 12/30... Step: 490... Loss: 2.5735... Val Loss: 2.9229\n",
      "Epoch: 12/30... Step: 500... Loss: 2.5025... Val Loss: 2.9409\n",
      "Epoch: 12/30... Step: 510... Loss: 2.4546... Val Loss: 2.9235\n",
      "Epoch: 12/30... Step: 520... Loss: 2.4994... Val Loss: 2.9183\n",
      "Epoch: 13/30... Step: 530... Loss: 2.5955... Val Loss: 2.8895\n",
      "Epoch: 13/30... Step: 540... Loss: 2.4662... Val Loss: 2.8818\n",
      "Epoch: 13/30... Step: 550... Loss: 2.4425... Val Loss: 2.9241\n",
      "Epoch: 13/30... Step: 560... Loss: 2.4476... Val Loss: 2.8969\n",
      "Epoch: 13/30... Step: 570... Loss: 2.4907... Val Loss: 2.8784\n",
      "Epoch: 14/30... Step: 580... Loss: 2.4426... Val Loss: 2.8709\n",
      "Epoch: 14/30... Step: 590... Loss: 2.4111... Val Loss: 2.8568\n",
      "Epoch: 14/30... Step: 600... Loss: 2.4826... Val Loss: 2.8736\n",
      "Epoch: 14/30... Step: 610... Loss: 2.3810... Val Loss: 2.8663\n",
      "Epoch: 15/30... Step: 620... Loss: 2.5082... Val Loss: 2.8398\n",
      "Epoch: 15/30... Step: 630... Loss: 2.4101... Val Loss: 2.8417\n",
      "Epoch: 15/30... Step: 640... Loss: 2.4469... Val Loss: 2.8404\n",
      "Epoch: 15/30... Step: 650... Loss: 2.3865... Val Loss: 2.8307\n",
      "Epoch: 15/30... Step: 660... Loss: 2.3832... Val Loss: 2.8319\n",
      "Epoch: 16/30... Step: 670... Loss: 2.3426... Val Loss: 2.8249\n",
      "Epoch: 16/30... Step: 680... Loss: 2.4666... Val Loss: 2.8209\n",
      "Epoch: 16/30... Step: 690... Loss: 2.3356... Val Loss: 2.8483\n",
      "Epoch: 16/30... Step: 700... Loss: 2.3774... Val Loss: 2.8211\n",
      "Epoch: 17/30... Step: 710... Loss: 2.4319... Val Loss: 2.8173\n",
      "Epoch: 17/30... Step: 720... Loss: 2.3830... Val Loss: 2.8226\n",
      "Epoch: 17/30... Step: 730... Loss: 2.3008... Val Loss: 2.8237\n",
      "Epoch: 17/30... Step: 740... Loss: 2.3587... Val Loss: 2.8345\n",
      "Epoch: 18/30... Step: 750... Loss: 2.3908... Val Loss: 2.7968\n",
      "Epoch: 18/30... Step: 760... Loss: 2.3269... Val Loss: 2.8109\n",
      "Epoch: 18/30... Step: 770... Loss: 2.3056... Val Loss: 2.8348\n",
      "Epoch: 18/30... Step: 780... Loss: 2.3150... Val Loss: 2.8364\n",
      "Epoch: 18/30... Step: 790... Loss: 2.3661... Val Loss: 2.8126\n",
      "Epoch: 19/30... Step: 800... Loss: 2.3106... Val Loss: 2.7995\n",
      "Epoch: 19/30... Step: 810... Loss: 2.2950... Val Loss: 2.8069\n",
      "Epoch: 19/30... Step: 820... Loss: 2.3550... Val Loss: 2.8067\n",
      "Epoch: 19/30... Step: 830... Loss: 2.2502... Val Loss: 2.7957\n",
      "Epoch: 20/30... Step: 840... Loss: 2.3703... Val Loss: 2.7957\n",
      "Epoch: 20/30... Step: 850... Loss: 2.3166... Val Loss: 2.7949\n",
      "Epoch: 20/30... Step: 860... Loss: 2.3594... Val Loss: 2.8101\n",
      "Epoch: 20/30... Step: 870... Loss: 2.2726... Val Loss: 2.8047\n",
      "Epoch: 20/30... Step: 880... Loss: 2.2859... Val Loss: 2.7893\n",
      "Epoch: 21/30... Step: 890... Loss: 2.2406... Val Loss: 2.7941\n",
      "Epoch: 21/30... Step: 900... Loss: 2.3473... Val Loss: 2.7878\n",
      "Epoch: 21/30... Step: 910... Loss: 2.2327... Val Loss: 2.7899\n",
      "Epoch: 21/30... Step: 920... Loss: 2.3000... Val Loss: 2.7795\n",
      "Epoch: 22/30... Step: 930... Loss: 2.3179... Val Loss: 2.7814\n",
      "Epoch: 22/30... Step: 940... Loss: 2.2705... Val Loss: 2.7867\n",
      "Epoch: 22/30... Step: 950... Loss: 2.1826... Val Loss: 2.7926\n",
      "Epoch: 22/30... Step: 960... Loss: 2.2670... Val Loss: 2.7874\n",
      "Epoch: 23/30... Step: 970... Loss: 2.2933... Val Loss: 2.7697\n",
      "Epoch: 23/30... Step: 980... Loss: 2.2372... Val Loss: 2.7764\n",
      "Epoch: 23/30... Step: 990... Loss: 2.2171... Val Loss: 2.7898\n",
      "Epoch: 23/30... Step: 1000... Loss: 2.2301... Val Loss: 2.7917\n",
      "Epoch: 23/30... Step: 1010... Loss: 2.2490... Val Loss: 2.7668\n",
      "Epoch: 24/30... Step: 1020... Loss: 2.2125... Val Loss: 2.7751\n",
      "Epoch: 24/30... Step: 1030... Loss: 2.2018... Val Loss: 2.7819\n",
      "Epoch: 24/30... Step: 1040... Loss: 2.2596... Val Loss: 2.7792\n",
      "Epoch: 24/30... Step: 1050... Loss: 2.1657... Val Loss: 2.7754\n",
      "Epoch: 25/30... Step: 1060... Loss: 2.2769... Val Loss: 2.7599\n",
      "Epoch: 25/30... Step: 1070... Loss: 2.2103... Val Loss: 2.7713\n",
      "Epoch: 25/30... Step: 1080... Loss: 2.2719... Val Loss: 2.7644\n",
      "Epoch: 25/30... Step: 1090... Loss: 2.1866... Val Loss: 2.7654\n",
      "Epoch: 25/30... Step: 1100... Loss: 2.1873... Val Loss: 2.7585\n",
      "Epoch: 26/30... Step: 1110... Loss: 2.1494... Val Loss: 2.7799\n",
      "Epoch: 26/30... Step: 1120... Loss: 2.2619... Val Loss: 2.7526\n",
      "Epoch: 26/30... Step: 1130... Loss: 2.1216... Val Loss: 2.7687\n",
      "Epoch: 26/30... Step: 1140... Loss: 2.2019... Val Loss: 2.7652\n",
      "Epoch: 27/30... Step: 1150... Loss: 2.2319... Val Loss: 2.7481\n",
      "Epoch: 27/30... Step: 1160... Loss: 2.1722... Val Loss: 2.7772\n",
      "Epoch: 27/30... Step: 1170... Loss: 2.0988... Val Loss: 2.7862\n",
      "Epoch: 27/30... Step: 1180... Loss: 2.1826... Val Loss: 2.7672\n",
      "Epoch: 28/30... Step: 1190... Loss: 2.1915... Val Loss: 2.7696\n",
      "Epoch: 28/30... Step: 1200... Loss: 2.1454... Val Loss: 2.7631\n",
      "Epoch: 28/30... Step: 1210... Loss: 2.1374... Val Loss: 2.7699\n",
      "Epoch: 28/30... Step: 1220... Loss: 2.1342... Val Loss: 2.7613\n",
      "Epoch: 28/30... Step: 1230... Loss: 2.1787... Val Loss: 2.7674\n",
      "Epoch: 29/30... Step: 1240... Loss: 2.1319... Val Loss: 2.7547\n",
      "Epoch: 29/30... Step: 1250... Loss: 2.1051... Val Loss: 2.7650\n",
      "Epoch: 29/30... Step: 1260... Loss: 2.1765... Val Loss: 2.7529\n",
      "Epoch: 29/30... Step: 1270... Loss: 2.0732... Val Loss: 2.7709\n",
      "Epoch: 30/30... Step: 1280... Loss: 2.1739... Val Loss: 2.7461\n",
      "Epoch: 30/30... Step: 1290... Loss: 2.1323... Val Loss: 2.7534\n",
      "Epoch: 30/30... Step: 1300... Loss: 2.2199... Val Loss: 2.7480\n",
      "Epoch: 30/30... Step: 1310... Loss: 2.1018... Val Loss: 2.7463\n",
      "Epoch: 30/30... Step: 1320... Loss: 2.1265... Val Loss: 2.7432\n"
     ]
    }
   ],
   "source": [
    "batch_size = 32\n",
    "seq_length = 100\n",
    "n_epochs = 30 # start smaller if you are just testing initial behavior\n",
    "# train the model\n",
    "train(net, encoded, epochs=n_epochs, batch_size=batch_size, seq_length=seq_length, lr=0.001)"
   ]
  },
  {
   "cell_type": "markdown",
   "metadata": {},
   "source": [
    "## Getting the best model\n",
    "\n",
    "To set your hyperparameters to get the best performance, you'll want to watch the training and validation losses. If your training loss is much lower than the validation loss, you're overfitting. Increase regularization (more dropout) or use a smaller network. If the training and validation losses are close, you're underfitting so you can increase the size of the network."
   ]
  },
  {
   "cell_type": "markdown",
   "metadata": {},
   "source": [
    "## Hyperparameters\n",
    "\n",
    "Here are the hyperparameters for the network.\n",
    "\n",
    "In defining the model:\n",
    "* `n_hidden` - The number of units in the hidden layers.\n",
    "* `n_layers` - Number of hidden LSTM layers to use.\n",
    "\n",
    "We assume that dropout probability and learning rate will be kept at the default, in this example.\n",
    "\n",
    "And in training:\n",
    "* `batch_size` - Number of sequences running through the network in one pass.\n",
    "* `seq_length` - Number of characters in the sequence the network is trained on. Larger is better typically, the network will learn more long range dependencies. But it takes longer to train. 100 is typically a good number here.\n",
    "* `lr` - Learning rate for training\n",
    "\n",
    "Here's some good advice from Andrej Karpathy on training the network. I'm going to copy it in here for your benefit, but also link to [where it originally came from](https://github.com/karpathy/char-rnn#tips-and-tricks).\n",
    "\n",
    "> ## Tips and Tricks\n",
    "\n",
    ">### Monitoring Validation Loss vs. Training Loss\n",
    ">If you're somewhat new to Machine Learning or Neural Networks it can take a bit of expertise to get good models. The most important quantity to keep track of is the difference between your training loss (printed during training) and the validation loss (printed once in a while when the RNN is run on the validation data (by default every 1000 iterations)). In particular:\n",
    "\n",
    "> - If your training loss is much lower than validation loss then this means the network might be **overfitting**. Solutions to this are to decrease your network size, or to increase dropout. For example you could try dropout of 0.5 and so on.\n",
    "> - If your training/validation loss are about equal then your model is **underfitting**. Increase the size of your model (either number of layers or the raw number of neurons per layer)\n",
    "\n",
    "> ### Approximate number of parameters\n",
    "\n",
    "> The two most important parameters that control the model are `n_hidden` and `n_layers`. I would advise that you always use `n_layers` of either 2/3. The `n_hidden` can be adjusted based on how much data you have. The two important quantities to keep track of here are:\n",
    "\n",
    "> - The number of parameters in your model. This is printed when you start training.\n",
    "> - The size of your dataset. 1MB file is approximately 1 million characters.\n",
    "\n",
    ">These two should be about the same order of magnitude. It's a little tricky to tell. Here are some examples:\n",
    "\n",
    "> - I have a 100MB dataset and I'm using the default parameter settings (which currently print 150K parameters). My data size is significantly larger (100 mil >> 0.15 mil), so I expect to heavily underfit. I am thinking I can comfortably afford to make `n_hidden` larger.\n",
    "> - I have a 10MB dataset and running a 10 million parameter model. I'm slightly nervous and I'm carefully monitoring my validation loss. If it's larger than my training loss then I may want to try to increase dropout a bit and see if that helps the validation loss.\n",
    "\n",
    "> ### Best models strategy\n",
    "\n",
    ">The winning strategy to obtaining very good models (if you have the compute time) is to always err on making the network larger (as large as you're willing to wait for it to compute) and then try different dropout values (between 0,1). Whatever model has the best validation performance (the loss, written in the checkpoint filename, low is good) is the one you should use in the end.\n",
    "\n",
    ">It is very common in deep learning to run many different models with many different hyperparameter settings, and in the end take whatever checkpoint gave the best validation performance.\n",
    "\n",
    ">By the way, the size of your training and validation splits are also parameters. Make sure you have a decent amount of data in your validation set or otherwise the validation performance will be noisy and not very informative."
   ]
  },
  {
   "cell_type": "markdown",
   "metadata": {},
   "source": [
    "## Checkpoint\n",
    "\n",
    "After training, we'll save the model so we can load it again later if we need too. Here I'm saving the parameters needed to create the same architecture, the hidden layer hyperparameters and the text characters."
   ]
  },
  {
   "cell_type": "code",
   "execution_count": 20,
   "metadata": {},
   "outputs": [],
   "source": [
    "# change the name, for saving multiple files\n",
    "model_name = 'rnn_x_epoch.net'\n",
    "\n",
    "checkpoint = {'n_hidden': net.n_hidden,\n",
    "              'n_layers': net.n_layers,\n",
    "              'state_dict': net.state_dict(),\n",
    "              'tokens': net.chars}\n",
    "\n",
    "with open(model_name, 'wb') as f:\n",
    "    torch.save(checkpoint, f)"
   ]
  },
  {
   "cell_type": "markdown",
   "metadata": {},
   "source": [
    "---\n",
    "## Making Predictions\n",
    "\n",
    "Now that the model is trained, we'll want to sample from it and make predictions about next characters! To sample, we pass in a character and have the network predict the next character. Then we take that character, pass it back in, and get another predicted character. Just keep doing this and you'll generate a bunch of text!\n",
    "\n",
    "### A note on the `predict`  function\n",
    "\n",
    "The output of our RNN is from a fully-connected layer and it outputs a **distribution of next-character scores**.\n",
    "\n",
    "> To actually get the next character, we apply a softmax function, which gives us a *probability* distribution that we can then sample to predict the next character.\n",
    "\n",
    "### Top K sampling\n",
    "\n",
    "Our predictions come from a categorical probability distribution over all the possible characters. We can make the sample text and make it more reasonable to handle (with less variables) by only considering some $K$ most probable characters. This will prevent the network from giving us completely absurd characters while allowing it to introduce some noise and randomness into the sampled text. Read more about [topk, here](https://pytorch.org/docs/stable/torch.html#torch.topk).\n"
   ]
  },
  {
   "cell_type": "code",
   "execution_count": 21,
   "metadata": {},
   "outputs": [],
   "source": [
    "def predict(net, char, h=None, top_k=None):\n",
    "        ''' Given a character, predict the next character.\n",
    "            Returns the predicted character and the hidden state.\n",
    "        '''\n",
    "        \n",
    "        # tensor inputs\n",
    "        x = np.array([[net.char2int[char]]])\n",
    "        x = one_hot_encode(x, len(net.chars))\n",
    "        inputs = torch.from_numpy(x)\n",
    "        \n",
    "        if(train_on_gpu):\n",
    "            inputs = inputs.to(device)\n",
    "        \n",
    "        # detach hidden state from history\n",
    "        h = tuple([each.data for each in h])\n",
    "        # get the output of the model\n",
    "        out, h = net(inputs, h)\n",
    "\n",
    "        # get the character probabilities\n",
    "        p = F.softmax(out, dim=1).data\n",
    "        if(train_on_gpu):\n",
    "            p = p.cpu() # move to cpu\n",
    "        \n",
    "        # get top characters\n",
    "        if top_k is None:\n",
    "            top_ch = np.arange(len(net.chars))\n",
    "        else:\n",
    "            p, top_ch = p.topk(top_k)\n",
    "            top_ch = top_ch.numpy().squeeze()\n",
    "        \n",
    "        # select the likely next character with some element of randomness\n",
    "        p = p.numpy().squeeze()\n",
    "        char = np.random.choice(top_ch, p=p/p.sum())\n",
    "        \n",
    "        # return the encoded value of the predicted char and the hidden state\n",
    "        return net.int2char[char], h"
   ]
  },
  {
   "cell_type": "markdown",
   "metadata": {},
   "source": [
    "### Priming and generating text \n",
    "\n",
    "Typically you'll want to prime the network so you can build up a hidden state. Otherwise the network will start out generating characters at random. In general the first bunch of characters will be a little rough since it hasn't built up a long history of characters to predict from."
   ]
  },
  {
   "cell_type": "code",
   "execution_count": 22,
   "metadata": {},
   "outputs": [],
   "source": [
    "def sample(net, size, prime='The', top_k=None):\n",
    "        \n",
    "    if(train_on_gpu):\n",
    "        net.to(device)\n",
    "    else:\n",
    "        net.cpu()\n",
    "    \n",
    "    net.eval() # eval mode\n",
    "    \n",
    "    # First off, run through the prime characters\n",
    "    chars = [ch for ch in prime]\n",
    "    h = net.init_hidden(1)\n",
    "    for ch in prime:\n",
    "        char, h = predict(net, ch, h, top_k=top_k)\n",
    "\n",
    "    chars.append(char)\n",
    "    \n",
    "    # Now pass in the previous character and get a new one\n",
    "    for ii in range(size):\n",
    "        char, h = predict(net, chars[-1], h, top_k=top_k)\n",
    "        chars.append(char)\n",
    "\n",
    "    return ''.join(chars)"
   ]
  },
  {
   "cell_type": "code",
   "execution_count": 23,
   "metadata": {},
   "outputs": [
    {
     "name": "stdout",
     "output_type": "stream",
     "text": [
      "Alice of seesh the tory oun of\n",
      "a latt an hores of the seich.”\n",
      "\n",
      "“I chouthe was thise she\n",
      "wase wat the had whe wound the tein see that it the war at into her whet, and sale wint the that,” sill an the Mughis at the she hides is the wond the the sined the coog, the wise to the wand the the wall sar sit hersed sourd of she wont the the tort, at she shist tound the thit all, and what if anging a chess,” the Must i tall a tout, at as on a tise at ther had had the case a sore allirg in thind a tone that the hens ther\n",
      "andat in,\n",
      "said the Madker the hore, the seal to lerte on on if the bester,” soo she herteres here to had tus so wonle at shat\n",
      "so sare here wand the hasten te then to sone to the sait of to lowt the tone har it at, at think sich the the courling it\n",
      "a tunking the tone all ald the wore, as shound atthen as at the with the wore ot ofto she wert this heand the thouging aly watt on the coung to hasting ot sithle the hat, ald talicud to lead to tho horg tis is\n",
      "the hore\n",
      "hand. The Mads and worl\n"
     ]
    }
   ],
   "source": [
    "print(sample(net, 1000, prime='Alice', top_k=5))"
   ]
  },
  {
   "cell_type": "markdown",
   "metadata": {},
   "source": [
    "## Loading a checkpoint"
   ]
  },
  {
   "cell_type": "code",
   "execution_count": 24,
   "metadata": {},
   "outputs": [
    {
     "data": {
      "text/plain": [
       "<All keys matched successfully>"
      ]
     },
     "execution_count": 24,
     "metadata": {},
     "output_type": "execute_result"
    }
   ],
   "source": [
    "# Here we have loaded in a model that trained over 20 epochs `rnn_20_epoch.net`\n",
    "with open('rnn_x_epoch.net', 'rb') as f:\n",
    "    checkpoint = torch.load(f)\n",
    "    \n",
    "loaded = CharRNN(checkpoint['tokens'], n_hidden=checkpoint['n_hidden'], n_layers=checkpoint['n_layers'])\n",
    "loaded.load_state_dict(checkpoint['state_dict'])"
   ]
  },
  {
   "cell_type": "code",
   "execution_count": 25,
   "metadata": {},
   "outputs": [
    {
     "name": "stdout",
     "output_type": "stream",
     "text": [
      "card sale tis sorly and some, so the ther hin tee hit, and were sore\n",
      "a tas as this houth tay the wound an a corlilge and, sut out the hangh hind see har if\n",
      "sat in the\n",
      "thery, the tore on and\n",
      "seite the sein the sont thit and the wink in so shy sald welt the toming.” she\n",
      "worlerd sourtting ot seid sore of the wared the warth of it anderthed to she the saly to hen\n",
      "thing anding thing.\n",
      "\n",
      "Than sering of in the howtting thimh aly ancerse this anginger as of in in anderters.\n",
      " “Thid anthing a tunll as see a litt our an on of te the tas the tanger.\n",
      "“Tho shat, shith to leratter thit oud the her hinge he shat, and was if the seid of souls the tore tait.\n",
      " “Thit the came thit a tore, “I’ cemy wele\n",
      "an ither, and, and with wat har her in the tale of the cater if so said so lack so to wanges\n",
      "a bare, wortint if in i so lothirg at the thise on if\n",
      "as if astorten an as ofting the ceote tale wong sine. “I there,” said she say thing the thound in the sinted it to tall at so whene ald ofterstist the sone wesh teicitt to shand as ot the tome at sore otter in hens it in to tand if thing the coulge ther head that she\n",
      "sish talt at, and and\n",
      "wald and on in\n",
      "thint a sore wat see hertered.”\n",
      "\n",
      "The sary and the his at thy the sore all would she the hen ale sained\n",
      "on onden thing, “bones shouge her to larking an tallen to the ware he to her that at thing a thing is and somerthe of the horted in, a that that the soon at and seed than, to said\n",
      "the sald ot aly ango hid\n",
      "wan thal the chald at them hery tho wat she wout at thit andald, wand it thase there herere tall west oud the\n",
      "seered to wald and the then\n",
      "so wore the\n",
      "went an her\n",
      "hinker hartels to hat\n",
      "shat of the she chetsele to went, and wish the thind in thing\n",
      "a atourt of to to har the begone\n",
      "ot the wast of and,” she the weringed as of to them and shall.\n",
      "\n",
      "She was the Mang wans at soed the wong ther at if see at a the cunding in serang her atitt and was so hirgenser as of the sore the\n",
      "wath tarl the\n",
      "seed anthed\n",
      "that, and that in it she sat ont and thist of the ther \n"
     ]
    }
   ],
   "source": [
    "# Sample using a loaded model\n",
    "print(sample(loaded, 2000, top_k=5, prime=\"card\"))"
   ]
  },
  {
   "cell_type": "code",
   "execution_count": null,
   "metadata": {},
   "outputs": [],
   "source": []
  }
 ],
 "metadata": {
  "kernelspec": {
   "display_name": "Python 3 (ipykernel)",
   "language": "python",
   "name": "python3"
  },
  "language_info": {
   "codemirror_mode": {
    "name": "ipython",
    "version": 3
   },
   "file_extension": ".py",
   "mimetype": "text/x-python",
   "name": "python",
   "nbconvert_exporter": "python",
   "pygments_lexer": "ipython3",
   "version": "3.9.16"
  }
 },
 "nbformat": 4,
 "nbformat_minor": 4
}
