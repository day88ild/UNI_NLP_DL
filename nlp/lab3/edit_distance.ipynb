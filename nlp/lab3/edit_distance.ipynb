{
 "cells": [
  {
   "cell_type": "code",
   "execution_count": 3,
   "id": "7101a014",
   "metadata": {},
   "outputs": [],
   "source": [
    "import math"
   ]
  },
  {
   "cell_type": "code",
   "execution_count": 4,
   "id": "1811f7c2",
   "metadata": {},
   "outputs": [],
   "source": [
    "def keys_dist(letter1, letter2):\n",
    "    distance = 19.05\n",
    "    letters = \"qazwsxedcrfvtgbyhnujmik,ol.p;/\"\n",
    "    bias = {0: 0, 1: 0.25 * distance, 2: 0.75 * distance}\n",
    "    \n",
    "    letter1_id = letters.find(letter1.lower())\n",
    "    letter2_id = letters.find(letter2.lower())\n",
    "    \n",
    "    coords1 = (bias[letter1_id % 3] + (letter1_id // 3) * distance, (letter1_id % 3) * distance)\n",
    "    coords2 = (bias[letter2_id % 3] + (letter2_id // 3) * distance, (letter2_id % 3) * distance)\n",
    "    \n",
    "    evc_dist = ((coords1[0] - coords2[0]) ** 2 + (coords1[1] - coords2[1]) ** 2) ** 0.5\n",
    "    \n",
    "    return evc_dist"
   ]
  },
  {
   "cell_type": "code",
   "execution_count": 5,
   "id": "95e2efb7",
   "metadata": {},
   "outputs": [
    {
     "name": "stdout",
     "output_type": "stream",
     "text": [
      "passed\n",
      "passed\n",
      "passed\n",
      "passed\n",
      "passed\n",
      "passed\n",
      "passed\n"
     ]
    }
   ],
   "source": [
    "test_cases = [[\"A\", \"B\", 87.82],\n",
    "              [\"B\", \"Q\", 98.18],\n",
    "              [\"G\", \"C\", 34.34],\n",
    "              [\"H\", \"J\", 19.05],\n",
    "              [\"L\", \"J\", 38.10],\n",
    "              [\"P\", \"X\", 143.27],\n",
    "              [\"Y\", \"Y\", 0]]\n",
    "\n",
    "for case in test_cases:\n",
    "    if abs(keys_dist(case[0], case[1]) - case[2]) < 0.01:\n",
    "        print(\"passed\")\n",
    "    else:\n",
    "        print(keys_dist(case[0], case[1]), case)"
   ]
  },
  {
   "cell_type": "code",
   "execution_count": 6,
   "id": "9489aadc",
   "metadata": {},
   "outputs": [
    {
     "name": "stdout",
     "output_type": "stream",
     "text": [
      "Edit distance between 'put' and 'pet': 4\n"
     ]
    }
   ],
   "source": [
    "def wagner_fisher(str1, str2, del_ins_cost):\n",
    "    m = len(str1)\n",
    "    n = len(str2)\n",
    "\n",
    "    d = [[0 for _ in range(n + 1)] for _ in range(m + 1)]\n",
    "\n",
    "    for i in range(m + 1):\n",
    "        d[i][0] = i * del_ins_cost\n",
    "    for j in range(n + 1):\n",
    "        d[0][j] = j * del_ins_cost\n",
    "\n",
    "    for i in range(1, m + 1):\n",
    "        for j in range(1, n + 1):\n",
    "            if str1[i - 1] == str2[j - 1]:\n",
    "                subcost = 0\n",
    "            else:\n",
    "                subcost = keys_dist(str1[i - 1], str2[j - 1]) / 10\n",
    "                \n",
    "            d[i][j] = min(d[i - 1][j - 1] + subcost,\n",
    "                          d[i - 1][j] + del_ins_cost,\n",
    "                          d[i][j - 1] + del_ins_cost)\n",
    "\n",
    "    return d[m][n]\n",
    "\n",
    "\n",
    "str1 = \"put\"\n",
    "str2 = \"pet\"\n",
    "print(\"Edit distance between '{}' and '{}': {}\".format(str1, str2, wagner_fisher(str1, str2, 2)))"
   ]
  },
  {
   "cell_type": "code",
   "execution_count": 7,
   "id": "79c6603f",
   "metadata": {},
   "outputs": [
    {
     "name": "stdout",
     "output_type": "stream",
     "text": [
      "0\n"
     ]
    }
   ],
   "source": [
    "def lev(a, b, del_cost, ins_cost, sub_cost, trans_cost):\n",
    "    if len(a) == 0 or len(b) == 0:\n",
    "        return max(len(a), len(b)) * del_cost\n",
    "    if a[0] == b[0]:\n",
    "        return lev(a[1:], b[1:], del_cost, ins_cost, sub_cost, trans_cost)\n",
    "    else:\n",
    "        return min(lev(a[1:], b, del_cost, ins_cost, sub_cost, trans_cost) + del_cost,\n",
    "                   lev(a, b[1:], del_cost, ins_cost, sub_cost, trans_cost) + ins_cost,\n",
    "                   lev(a[1:], b[1:], del_cost, ins_cost, sub_cost, trans_cost) + sub_cost,\n",
    "                   lev(a[2:], b[2:], del_cost, ins_cost, sub_cost, trans_cost) + trans_cost if (len(a) > 1 and len(b) > 1) and (a[0] == b[1] and a[1] == b[0]) else math.inf)\n",
    "\n",
    "\n",
    "print(lev(\"pet\", \"pte\", 1, 1, 2, 0))"
   ]
  },
  {
   "cell_type": "code",
   "execution_count": 8,
   "id": "4ae5557d",
   "metadata": {},
   "outputs": [
    {
     "name": "stdout",
     "output_type": "stream",
     "text": [
      "Edit distance between 'put' and 'ptu': 0\n"
     ]
    }
   ],
   "source": [
    "def wagner_fisher_with_trans(str1, str2, del_ins_cost, trans_cost):\n",
    "    m = len(str1)\n",
    "    n = len(str2)\n",
    "\n",
    "    d = [[0 for _ in range(n + 1)] for _ in range(m + 1)]\n",
    "\n",
    "    for i in range(m + 1):\n",
    "        d[i][0] = i * del_ins_cost\n",
    "    for j in range(n + 1):\n",
    "        d[0][j] = j * del_ins_cost\n",
    "\n",
    "    for i in range(1, m + 1):\n",
    "        for j in range(1, n + 1):\n",
    "            if str1[i - 1] == str2[j - 1]:\n",
    "                subcost = 0\n",
    "            else:\n",
    "                subcost = keys_dist(str1[i - 1], str2[j - 1]) / 10\n",
    "            \n",
    "            if (i > 1 and j > 1) and (str1[i - 1] == str2[i - 2] and str1[i - 2] == str2[i - 1]):\n",
    "                trans_cost_tmp = trans_cost\n",
    "            else:\n",
    "                trans_cost_tmp = math.inf\n",
    "                \n",
    "            d[i][j] = min(d[i - 1][j - 1] + subcost,\n",
    "                          d[i - 1][j] + del_ins_cost,\n",
    "                          d[i][j - 1] + del_ins_cost,\n",
    "                          d[i - 2][j - 2] + trans_cost_tmp)\n",
    "\n",
    "    return d[m][n]\n",
    "\n",
    "\n",
    "str1 = \"put\"\n",
    "str2 = \"ptu\"\n",
    "print(\"Edit distance between '{}' and '{}': {}\".format(str1, str2, wagner_fisher_with_trans(str1, str2, 2, 0)))"
   ]
  },
  {
   "cell_type": "code",
   "execution_count": 9,
   "id": "25adc74d",
   "metadata": {},
   "outputs": [
    {
     "name": "stdout",
     "output_type": "stream",
     "text": [
      "*** Introductory Examples for the NLTK Book ***\n",
      "Loading text1, ..., text9 and sent1, ..., sent9\n",
      "Type the name of the text or sentence to view it.\n",
      "Type: 'texts()' or 'sents()' to list the materials.\n",
      "text1: Moby Dick by Herman Melville 1851\n",
      "text2: Sense and Sensibility by Jane Austen 1811\n",
      "text3: The Book of Genesis\n",
      "text4: Inaugural Address Corpus\n",
      "text5: Chat Corpus\n",
      "text6: Monty Python and the Holy Grail\n",
      "text7: Wall Street Journal\n",
      "text8: Personals Corpus\n",
      "text9: The Man Who Was Thursday by G . K . Chesterton 1908\n"
     ]
    }
   ],
   "source": [
    "import nltk\n",
    "from nltk import book\n",
    "import numpy as np"
   ]
  },
  {
   "cell_type": "code",
   "execution_count": 10,
   "id": "9f539547",
   "metadata": {},
   "outputs": [],
   "source": [
    "def get_vocab(corpus):\n",
    "    vocab = {}\n",
    "    for i, word in enumerate(set(corpus), 1):\n",
    "        vocab[word] = i\n",
    "    return vocab"
   ]
  },
  {
   "cell_type": "code",
   "execution_count": 46,
   "id": "ddc2b491",
   "metadata": {},
   "outputs": [],
   "source": [
    "t1 = book.text6\n",
    "t2 = book.text1"
   ]
  },
  {
   "cell_type": "code",
   "execution_count": 47,
   "id": "f29e9bef",
   "metadata": {},
   "outputs": [],
   "source": [
    "vocab = get_vocab(t1.tokens + t2.tokens)"
   ]
  },
  {
   "cell_type": "code",
   "execution_count": 48,
   "id": "c62304a6",
   "metadata": {},
   "outputs": [
    {
     "data": {
      "text/plain": [
       "20031"
      ]
     },
     "execution_count": 48,
     "metadata": {},
     "output_type": "execute_result"
    }
   ],
   "source": [
    "len(vocab)"
   ]
  },
  {
   "cell_type": "code",
   "execution_count": 49,
   "id": "f9a2ba98",
   "metadata": {},
   "outputs": [],
   "source": [
    "def ohe(sentence, vocab):\n",
    "    ohe_sentence = np.array([0 for _ in range(len(vocab) + 1)])\n",
    "    for word in sentence:\n",
    "        ohe_sentence[vocab.get(word, 0)] += 1\n",
    "        \n",
    "    return ohe_sentence"
   ]
  },
  {
   "cell_type": "code",
   "execution_count": 50,
   "id": "c453bd5d",
   "metadata": {},
   "outputs": [],
   "source": [
    "ohe_t1 = ohe(t1.tokens, vocab)\n",
    "ohe_t2 = ohe(t2.tokens, vocab)"
   ]
  },
  {
   "cell_type": "code",
   "execution_count": 51,
   "id": "c2e65438",
   "metadata": {},
   "outputs": [
    {
     "data": {
      "text/plain": [
       "0.5477550016740712"
      ]
     },
     "execution_count": 51,
     "metadata": {},
     "output_type": "execute_result"
    }
   ],
   "source": [
    "(ohe_t1 @ ohe_t2) / np.linalg.norm(ohe_t1) / np.linalg.norm(ohe_t2)"
   ]
  },
  {
   "cell_type": "code",
   "execution_count": null,
   "id": "78c38eaa",
   "metadata": {},
   "outputs": [],
   "source": []
  }
 ],
 "metadata": {
  "kernelspec": {
   "display_name": "Python 3 (ipykernel)",
   "language": "python",
   "name": "python3"
  },
  "language_info": {
   "codemirror_mode": {
    "name": "ipython",
    "version": 3
   },
   "file_extension": ".py",
   "mimetype": "text/x-python",
   "name": "python",
   "nbconvert_exporter": "python",
   "pygments_lexer": "ipython3",
   "version": "3.9.16"
  }
 },
 "nbformat": 4,
 "nbformat_minor": 5
}
