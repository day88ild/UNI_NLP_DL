{
 "cells": [
  {
   "cell_type": "code",
   "execution_count": 1,
   "id": "0c332735",
   "metadata": {},
   "outputs": [
    {
     "name": "stdout",
     "output_type": "stream",
     "text": [
      "*** Introductory Examples for the NLTK Book ***\n",
      "Loading text1, ..., text9 and sent1, ..., sent9\n",
      "Type the name of the text or sentence to view it.\n",
      "Type: 'texts()' or 'sents()' to list the materials.\n",
      "text1: Moby Dick by Herman Melville 1851\n",
      "text2: Sense and Sensibility by Jane Austen 1811\n",
      "text3: The Book of Genesis\n",
      "text4: Inaugural Address Corpus\n",
      "text5: Chat Corpus\n",
      "text6: Monty Python and the Holy Grail\n",
      "text7: Wall Street Journal\n",
      "text8: Personals Corpus\n",
      "text9: The Man Who Was Thursday by G . K . Chesterton 1908\n"
     ]
    }
   ],
   "source": [
    "import nltk\n",
    "import numpy as np\n",
    "from nltk.book import text1\n",
    "from nltk.corpus import gutenberg"
   ]
  },
  {
   "cell_type": "code",
   "execution_count": 2,
   "id": "277437e6",
   "metadata": {},
   "outputs": [],
   "source": [
    "corpus = []\n",
    "lemantizer = nltk.stem.WordNetLemmatizer()\n",
    "for token in text1.tokens:\n",
    "    corpus.append(lemantizer.lemmatize(lemantizer.lemmatize(token, \"v\"), \"a\").lower())"
   ]
  },
  {
   "cell_type": "code",
   "execution_count": 3,
   "id": "f1c92a8a",
   "metadata": {},
   "outputs": [
    {
     "data": {
      "text/plain": [
       "260819"
      ]
     },
     "execution_count": 3,
     "metadata": {},
     "output_type": "execute_result"
    }
   ],
   "source": [
    "len(corpus)"
   ]
  },
  {
   "cell_type": "code",
   "execution_count": 4,
   "id": "dd18da84",
   "metadata": {},
   "outputs": [
    {
     "data": {
      "text/plain": [
       "2793"
      ]
     },
     "execution_count": 4,
     "metadata": {},
     "output_type": "execute_result"
    }
   ],
   "source": [
    "corpus_paragraphs_tmp = nltk.tokenize.blankline_tokenize(gutenberg.raw('melville-moby_dick.txt'))\n",
    "corpus_paragraphs = []\n",
    "\n",
    "for paragraph in corpus_paragraphs_tmp:\n",
    "    paragraph_tokens = []\n",
    "    for token in nltk.word_tokenize(paragraph):\n",
    "        paragraph_tokens.append(lemantizer.lemmatize(lemantizer.lemmatize(token, \"v\"), \"a\").lower())\n",
    "    \n",
    "    corpus_paragraphs.append(paragraph_tokens)\n",
    "\n",
    "len(corpus_paragraphs)"
   ]
  },
  {
   "cell_type": "code",
   "execution_count": 5,
   "id": "7b5425e7",
   "metadata": {},
   "outputs": [],
   "source": [
    "def make_vocab(corpus):\n",
    "    vocab = {}\n",
    "    for i, token in enumerate(set(corpus), 1):\n",
    "        vocab[token] = i\n",
    "\n",
    "    return vocab"
   ]
  },
  {
   "cell_type": "code",
   "execution_count": 6,
   "id": "bac4db9d",
   "metadata": {},
   "outputs": [],
   "source": [
    "def make_f_matrix_with_window(corpus, vocab, window_len=10):\n",
    "    fm = np.zeros((len(vocab) + 1, len(vocab) + 1))\n",
    "    \n",
    "    for token_id in range(len(corpus) - window_len):\n",
    "        token = corpus[token_id + window_len // 2]\n",
    "        \n",
    "        for context in corpus[token_id: token_id + window_len]:\n",
    "            fm[vocab[token], vocab[context]] += 1\n",
    "    \n",
    "    return fm"
   ]
  },
  {
   "cell_type": "code",
   "execution_count": 7,
   "id": "eb5639d1",
   "metadata": {},
   "outputs": [],
   "source": [
    "def make_f_matrix_same_paragraph(corpus, vocab):\n",
    "    fm = np.zeros((len(vocab) + 1, len(vocab) + 1))\n",
    "    \n",
    "    for paragraph in corpus:        \n",
    "        for token in paragraph:\n",
    "            for context in paragraph:\n",
    "                fm[vocab[token], vocab[context]] += 1\n",
    "    \n",
    "    return fm"
   ]
  },
  {
   "cell_type": "code",
   "execution_count": 8,
   "id": "bbe1613f",
   "metadata": {},
   "outputs": [],
   "source": [
    "def PMI(word1, word2, fm, vocab):\n",
    "    return np.log(fm[vocab[word1], vocab[word2]] * fm.sum() / fm[vocab[word1]].sum() / fm[vocab[word2]].sum()) "
   ]
  },
  {
   "cell_type": "code",
   "execution_count": 9,
   "id": "8bb377d7",
   "metadata": {},
   "outputs": [],
   "source": [
    "def PPMI(word1, word2, fm, vocab):\n",
    "    return max(PMI(word1, word2, fm, vocab), 0)"
   ]
  },
  {
   "cell_type": "code",
   "execution_count": 10,
   "id": "070c81ae",
   "metadata": {},
   "outputs": [],
   "source": [
    "corpus_tmp = []\n",
    "\n",
    "for par in corpus_paragraphs:\n",
    "    corpus_tmp.extend(par)"
   ]
  },
  {
   "cell_type": "code",
   "execution_count": 11,
   "id": "650c974d",
   "metadata": {},
   "outputs": [
    {
     "data": {
      "text/plain": [
       "14997"
      ]
     },
     "execution_count": 11,
     "metadata": {},
     "output_type": "execute_result"
    }
   ],
   "source": [
    "vocab_par = make_vocab(corpus_tmp)\n",
    "len(vocab_par)"
   ]
  },
  {
   "cell_type": "code",
   "execution_count": 12,
   "id": "d735a017",
   "metadata": {},
   "outputs": [],
   "source": [
    "fm_par = make_f_matrix_same_paragraph(corpus_paragraphs, vocab_par)"
   ]
  },
  {
   "cell_type": "code",
   "execution_count": 13,
   "id": "11392493",
   "metadata": {},
   "outputs": [
    {
     "data": {
      "text/plain": [
       "50974600.0"
      ]
     },
     "execution_count": 13,
     "metadata": {},
     "output_type": "execute_result"
    }
   ],
   "source": [
    "fm_par.sum()"
   ]
  },
  {
   "cell_type": "code",
   "execution_count": 14,
   "id": "94774b77",
   "metadata": {},
   "outputs": [
    {
     "data": {
      "text/plain": [
       "14.0"
      ]
     },
     "execution_count": 14,
     "metadata": {},
     "output_type": "execute_result"
    }
   ],
   "source": [
    "fm_par[vocab_par[\"am\"], vocab_par[\"i\"]]"
   ]
  },
  {
   "cell_type": "code",
   "execution_count": 15,
   "id": "b390346e",
   "metadata": {},
   "outputs": [
    {
     "data": {
      "text/plain": [
       "0.8414838122787834"
      ]
     },
     "execution_count": 15,
     "metadata": {},
     "output_type": "execute_result"
    }
   ],
   "source": [
    "PMI(\"am\", \"i\", fm_par, vocab_par)"
   ]
  },
  {
   "cell_type": "code",
   "execution_count": 16,
   "id": "10c33ccd",
   "metadata": {},
   "outputs": [
    {
     "data": {
      "text/plain": [
       "0.8414838122787834"
      ]
     },
     "execution_count": 16,
     "metadata": {},
     "output_type": "execute_result"
    }
   ],
   "source": [
    "PPMI(\"am\", \"i\", fm_par, vocab_par)"
   ]
  },
  {
   "cell_type": "code",
   "execution_count": 10,
   "id": "4f47f7ea",
   "metadata": {},
   "outputs": [
    {
     "data": {
      "text/plain": [
       "13439"
      ]
     },
     "execution_count": 10,
     "metadata": {},
     "output_type": "execute_result"
    }
   ],
   "source": [
    "vocab_win = make_vocab(corpus)\n",
    "len(vocab_win)"
   ]
  },
  {
   "cell_type": "code",
   "execution_count": 11,
   "id": "1010e7c5",
   "metadata": {},
   "outputs": [],
   "source": [
    "fm_win = make_f_matrix_with_window(corpus, vocab_win, 10)"
   ]
  },
  {
   "cell_type": "code",
   "execution_count": 12,
   "id": "0e7f1b33",
   "metadata": {},
   "outputs": [
    {
     "data": {
      "text/plain": [
       "2608090.0"
      ]
     },
     "execution_count": 12,
     "metadata": {},
     "output_type": "execute_result"
    }
   ],
   "source": [
    "fm_win.sum()"
   ]
  },
  {
   "cell_type": "code",
   "execution_count": 13,
   "id": "8482653d",
   "metadata": {},
   "outputs": [
    {
     "data": {
      "text/plain": [
       "126.0"
      ]
     },
     "execution_count": 13,
     "metadata": {},
     "output_type": "execute_result"
    }
   ],
   "source": [
    "fm_win[vocab_win[\"white\"], vocab_win[\"whale\"]]"
   ]
  },
  {
   "cell_type": "code",
   "execution_count": 14,
   "id": "eb63cedb",
   "metadata": {},
   "outputs": [
    {
     "data": {
      "text/plain": [
       "2.5999149980578924"
      ]
     },
     "execution_count": 14,
     "metadata": {},
     "output_type": "execute_result"
    }
   ],
   "source": [
    "PMI(\"sperm\", \"whale\", fm_win, vocab_win)"
   ]
  },
  {
   "cell_type": "code",
   "execution_count": 15,
   "id": "be74a367",
   "metadata": {},
   "outputs": [
    {
     "data": {
      "text/plain": [
       "2.5999149980578924"
      ]
     },
     "execution_count": 15,
     "metadata": {},
     "output_type": "execute_result"
    }
   ],
   "source": [
    "PPMI(\"sperm\", \"whale\", fm_win, vocab_win)"
   ]
  },
  {
   "cell_type": "code",
   "execution_count": 16,
   "id": "90e4d7db",
   "metadata": {},
   "outputs": [
    {
     "data": {
      "text/plain": [
       "[('Sperm', 'Whale'),\n",
       " ('Moby', 'Dick'),\n",
       " ('White', 'Whale'),\n",
       " ('old', 'man'),\n",
       " ('Captain', 'Ahab'),\n",
       " ('sperm', 'whale'),\n",
       " ('Right', 'Whale'),\n",
       " ('Captain', 'Peleg'),\n",
       " ('New', 'Bedford'),\n",
       " ('Cape', 'Horn'),\n",
       " ('cried', 'Ahab'),\n",
       " ('years', 'ago'),\n",
       " ('lower', 'jaw'),\n",
       " ('never', 'mind'),\n",
       " ('Father', 'Mapple'),\n",
       " ('cried', 'Stubb'),\n",
       " ('chief', 'mate'),\n",
       " ('white', 'whale'),\n",
       " ('ivory', 'leg'),\n",
       " ('one', 'hand')]"
      ]
     },
     "execution_count": 16,
     "metadata": {},
     "output_type": "execute_result"
    }
   ],
   "source": [
    "text1.collocation_list()"
   ]
  },
  {
   "cell_type": "markdown",
   "id": "807a5782",
   "metadata": {},
   "source": [
    "### Very rare words might will have high PMI values. How would you solve the problem? First I think about is clipping values between some limited numbers, same method is used to prevent gradient vanishing and explosion problems."
   ]
  },
  {
   "cell_type": "code",
   "execution_count": 20,
   "id": "c2ae1c28",
   "metadata": {},
   "outputs": [
    {
     "data": {
      "text/plain": [
       "0.06569768907981557"
      ]
     },
     "execution_count": 20,
     "metadata": {},
     "output_type": "execute_result"
    }
   ],
   "source": [
    "PPMI(\"good\", \"well\", fm_par, vocab_par)"
   ]
  },
  {
   "cell_type": "code",
   "execution_count": 21,
   "id": "d670011e",
   "metadata": {},
   "outputs": [
    {
     "data": {
      "text/plain": [
       "0.8414838122787834"
      ]
     },
     "execution_count": 21,
     "metadata": {},
     "output_type": "execute_result"
    }
   ],
   "source": [
    "PPMI(\"i\", \"am\", fm_par, vocab_par)"
   ]
  },
  {
   "cell_type": "code",
   "execution_count": 22,
   "id": "7890883d",
   "metadata": {},
   "outputs": [
    {
     "data": {
      "text/plain": [
       "0.07592487342471296"
      ]
     },
     "execution_count": 22,
     "metadata": {},
     "output_type": "execute_result"
    }
   ],
   "source": [
    "PPMI(\"i\", \"he\", fm_par, vocab_par)"
   ]
  },
  {
   "cell_type": "code",
   "execution_count": 25,
   "id": "9c4e73cf",
   "metadata": {},
   "outputs": [
    {
     "data": {
      "text/plain": [
       "0.14113469315833196"
      ]
     },
     "execution_count": 25,
     "metadata": {},
     "output_type": "execute_result"
    }
   ],
   "source": [
    "PPMI(\"he\", \"is\", fm_par, vocab_par)"
   ]
  },
  {
   "cell_type": "code",
   "execution_count": 28,
   "id": "25465b71",
   "metadata": {},
   "outputs": [
    {
     "name": "stderr",
     "output_type": "stream",
     "text": [
      "/tmp/ipykernel_5589/1619392590.py:2: RuntimeWarning: divide by zero encountered in log\n",
      "  return np.log(fm[vocab[word1], vocab[word2]] * fm.sum() / fm[vocab[word1]].sum() / fm[vocab[word2]].sum())\n"
     ]
    },
    {
     "data": {
      "text/plain": [
       "0"
      ]
     },
     "execution_count": 28,
     "metadata": {},
     "output_type": "execute_result"
    }
   ],
   "source": [
    "PPMI(\"beautiful\", \"gorgeous\", fm_par, vocab_par)"
   ]
  },
  {
   "cell_type": "code",
   "execution_count": null,
   "id": "bcf2609e",
   "metadata": {},
   "outputs": [],
   "source": []
  }
 ],
 "metadata": {
  "kernelspec": {
   "display_name": "Python 3 (ipykernel)",
   "language": "python",
   "name": "python3"
  },
  "language_info": {
   "codemirror_mode": {
    "name": "ipython",
    "version": 3
   },
   "file_extension": ".py",
   "mimetype": "text/x-python",
   "name": "python",
   "nbconvert_exporter": "python",
   "pygments_lexer": "ipython3",
   "version": "3.9.16"
  }
 },
 "nbformat": 4,
 "nbformat_minor": 5
}
