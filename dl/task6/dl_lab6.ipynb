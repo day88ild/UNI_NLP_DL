{
  "cells": [
    {
      "cell_type": "markdown",
      "id": "de28d09d-1444-4cb4-a7b7-031121aa668e",
      "metadata": {
        "id": "de28d09d-1444-4cb4-a7b7-031121aa668e"
      },
      "source": [
        "## Image classification using Food-101 dataset\n",
        "\n",
        "### Task description\n",
        "1. Grab the dataset from https://huggingface.co/datasets/food101\n",
        "2. Implement a convolutional neural network for multiclass image classification.\n",
        "3. Use https://pytorch.org/tutorials/beginner/blitz/cifar10_tutorial.html or `dl_lab5` for inspiration."
      ]
    },
    {
      "cell_type": "code",
      "execution_count": null,
      "id": "LXNwIzzHSZpB",
      "metadata": {
        "colab": {
          "base_uri": "https://localhost:8080/"
        },
        "id": "LXNwIzzHSZpB",
        "outputId": "13248aad-7d96-4d22-8ef2-1eff1adec9e6"
      },
      "outputs": [
        {
          "name": "stdout",
          "output_type": "stream",
          "text": [
            "Requirement already satisfied: pyarrow in /usr/local/lib/python3.10/dist-packages (14.0.2)\n",
            "Requirement already satisfied: numpy>=1.16.6 in /usr/local/lib/python3.10/dist-packages (from pyarrow) (1.25.2)\n"
          ]
        }
      ],
      "source": [
        "!pip install pyarrow"
      ]
    },
    {
      "cell_type": "code",
      "execution_count": null,
      "id": "030aa11a-c09f-4187-be13-f8ce0e2cc2d4",
      "metadata": {
        "id": "030aa11a-c09f-4187-be13-f8ce0e2cc2d4"
      },
      "outputs": [],
      "source": [
        "import torch\n",
        "import pandas as pd\n",
        "import numpy as np\n",
        "import random\n",
        "import os\n",
        "import time\n",
        "import matplotlib.pyplot as plt\n",
        "from PIL import Image\n",
        "import io\n",
        "import torchvision.transforms as transforms\n",
        "from IPython.display import clear_output"
      ]
    },
    {
      "cell_type": "code",
      "execution_count": null,
      "id": "KyxDl_RFh4zm",
      "metadata": {
        "colab": {
          "base_uri": "https://localhost:8080/"
        },
        "id": "KyxDl_RFh4zm",
        "outputId": "4a951a24-1654-4354-e17a-e1deceffc9c0"
      },
      "outputs": [
        {
          "name": "stdout",
          "output_type": "stream",
          "text": [
            "Mounted at /content/drive\n"
          ]
        }
      ],
      "source": [
        "from google.colab import drive\n",
        "drive.mount('/content/drive')"
      ]
    },
    {
      "cell_type": "code",
      "execution_count": null,
      "id": "5b906cd9",
      "metadata": {
        "id": "5b906cd9"
      },
      "outputs": [],
      "source": [
        "LR = 0.0002\n",
        "BATCH_SIZE = 8\n",
        "IMAGE_SIZE = 128\n",
        "DATA_DIR = \"/content/drive/MyDrive/data\"\n",
        "SAVE_DIR = \"/content/drive/MyDrive/models\"\n",
        "device = \"cuda\" if torch.cuda.is_available() else \"cpu\""
      ]
    },
    {
      "cell_type": "code",
      "execution_count": null,
      "id": "GdCIl2UnBzel",
      "metadata": {
        "colab": {
          "base_uri": "https://localhost:8080/",
          "height": 35
        },
        "id": "GdCIl2UnBzel",
        "outputId": "e3d494bb-36b5-40b4-f93f-6f526b59ef85"
      },
      "outputs": [
        {
          "data": {
            "application/vnd.google.colaboratory.intrinsic+json": {
              "type": "string"
            },
            "text/plain": [
              "'cpu'"
            ]
          },
          "execution_count": 5,
          "metadata": {},
          "output_type": "execute_result"
        }
      ],
      "source": [
        "device"
      ]
    },
    {
      "cell_type": "code",
      "execution_count": null,
      "id": "6174aa67",
      "metadata": {
        "id": "6174aa67"
      },
      "outputs": [],
      "source": [
        "train_data_names = [\"train-00000-of-00008.parquet\", \"train-00001-of-00008.parquet\", \"train-00002-of-00008.parquet\", \"train-00003-of-00008.parquet\", \"train-00004-of-00008.parquet\", \"train-00005-of-00008.parquet\", \"train-00006-of-00008.parquet\", \"train-00007-of-00008.parquet\"]\n",
        "val_data_names = [\"validation-00000-of-00003.parquet\", \"validation-00001-of-00003.parquet\", \"validation-00002-of-00003.parquet\"]"
      ]
    },
    {
      "cell_type": "code",
      "execution_count": null,
      "id": "bab1d84d",
      "metadata": {
        "colab": {
          "base_uri": "https://localhost:8080/"
        },
        "id": "bab1d84d",
        "outputId": "23c0e447-f9ac-4e6a-c110-90dc6ab3f8d1"
      },
      "outputs": [
        {
          "data": {
            "text/plain": [
              "(75750, 2)"
            ]
          },
          "execution_count": 7,
          "metadata": {},
          "output_type": "execute_result"
        }
      ],
      "source": [
        "train_data = pd.DataFrame()\n",
        "\n",
        "for name in train_data_names:\n",
        "    train_data = pd.concat([train_data, pd.read_parquet(os.path.join(DATA_DIR, name))])\n",
        "\n",
        "# train_data = pd.read_parquet(\"train-00000-of-00008.parquet\")\n",
        "train_data.shape"
      ]
    },
    {
      "cell_type": "code",
      "execution_count": null,
      "id": "b736b7f0",
      "metadata": {
        "colab": {
          "base_uri": "https://localhost:8080/"
        },
        "id": "b736b7f0",
        "outputId": "c8550b4b-0588-46ad-a1c4-6cecd187d25f"
      },
      "outputs": [
        {
          "data": {
            "text/plain": [
              "(25250, 2)"
            ]
          },
          "execution_count": 8,
          "metadata": {},
          "output_type": "execute_result"
        }
      ],
      "source": [
        "val_data = pd.DataFrame()\n",
        "\n",
        "for name in val_data_names:\n",
        "    val_data = pd.concat([val_data, pd.read_parquet(os.path.join(DATA_DIR, name))])\n",
        "\n",
        "# val_data = pd.read_parquet(\"validation-00000-of-00003.parquet\")\n",
        "val_data.shape"
      ]
    },
    {
      "cell_type": "code",
      "execution_count": null,
      "id": "3dbb618d",
      "metadata": {
        "colab": {
          "base_uri": "https://localhost:8080/",
          "height": 206
        },
        "id": "3dbb618d",
        "outputId": "8e95adb4-4ad9-476f-abc3-63e5333e57cd"
      },
      "outputs": [
        {
          "data": {
            "application/vnd.google.colaboratory.intrinsic+json": {
              "summary": "{\n  \"name\": \"val_data\",\n  \"rows\": 25250,\n  \"fields\": [\n    {\n      \"column\": \"image\",\n      \"properties\": {\n        \"dtype\": \"object\",\n        \"semantic_type\": \"\",\n        \"description\": \"\"\n      }\n    },\n    {\n      \"column\": \"label\",\n      \"properties\": {\n        \"dtype\": \"number\",\n        \"std\": 29,\n        \"min\": 0,\n        \"max\": 100,\n        \"num_unique_values\": 101,\n        \"samples\": [\n          47,\n          19,\n          89\n        ],\n        \"semantic_type\": \"\",\n        \"description\": \"\"\n      }\n    }\n  ]\n}",
              "type": "dataframe",
              "variable_name": "val_data"
            },
            "text/html": [
              "\n",
              "  <div id=\"df-4fe57d28-2116-471a-b6a2-46dbb5fb7a81\" class=\"colab-df-container\">\n",
              "    <div>\n",
              "<style scoped>\n",
              "    .dataframe tbody tr th:only-of-type {\n",
              "        vertical-align: middle;\n",
              "    }\n",
              "\n",
              "    .dataframe tbody tr th {\n",
              "        vertical-align: top;\n",
              "    }\n",
              "\n",
              "    .dataframe thead th {\n",
              "        text-align: right;\n",
              "    }\n",
              "</style>\n",
              "<table border=\"1\" class=\"dataframe\">\n",
              "  <thead>\n",
              "    <tr style=\"text-align: right;\">\n",
              "      <th></th>\n",
              "      <th>image</th>\n",
              "      <th>label</th>\n",
              "    </tr>\n",
              "  </thead>\n",
              "  <tbody>\n",
              "    <tr>\n",
              "      <th>0</th>\n",
              "      <td>{'bytes': b'\\xff\\xd8\\xff\\xe0\\x00\\x10JFIF\\x00\\x...</td>\n",
              "      <td>6</td>\n",
              "    </tr>\n",
              "    <tr>\n",
              "      <th>1</th>\n",
              "      <td>{'bytes': b'\\xff\\xd8\\xff\\xe0\\x00\\x10JFIF\\x00\\x...</td>\n",
              "      <td>6</td>\n",
              "    </tr>\n",
              "    <tr>\n",
              "      <th>2</th>\n",
              "      <td>{'bytes': b'\\xff\\xd8\\xff\\xe0\\x00\\x10JFIF\\x00\\x...</td>\n",
              "      <td>6</td>\n",
              "    </tr>\n",
              "    <tr>\n",
              "      <th>3</th>\n",
              "      <td>{'bytes': b'\\xff\\xd8\\xff\\xe0\\x00\\x10JFIF\\x00\\x...</td>\n",
              "      <td>6</td>\n",
              "    </tr>\n",
              "    <tr>\n",
              "      <th>4</th>\n",
              "      <td>{'bytes': b'\\xff\\xd8\\xff\\xe0\\x00\\x10JFIF\\x00\\x...</td>\n",
              "      <td>6</td>\n",
              "    </tr>\n",
              "  </tbody>\n",
              "</table>\n",
              "</div>\n",
              "    <div class=\"colab-df-buttons\">\n",
              "\n",
              "  <div class=\"colab-df-container\">\n",
              "    <button class=\"colab-df-convert\" onclick=\"convertToInteractive('df-4fe57d28-2116-471a-b6a2-46dbb5fb7a81')\"\n",
              "            title=\"Convert this dataframe to an interactive table.\"\n",
              "            style=\"display:none;\">\n",
              "\n",
              "  <svg xmlns=\"http://www.w3.org/2000/svg\" height=\"24px\" viewBox=\"0 -960 960 960\">\n",
              "    <path d=\"M120-120v-720h720v720H120Zm60-500h600v-160H180v160Zm220 220h160v-160H400v160Zm0 220h160v-160H400v160ZM180-400h160v-160H180v160Zm440 0h160v-160H620v160ZM180-180h160v-160H180v160Zm440 0h160v-160H620v160Z\"/>\n",
              "  </svg>\n",
              "    </button>\n",
              "\n",
              "  <style>\n",
              "    .colab-df-container {\n",
              "      display:flex;\n",
              "      gap: 12px;\n",
              "    }\n",
              "\n",
              "    .colab-df-convert {\n",
              "      background-color: #E8F0FE;\n",
              "      border: none;\n",
              "      border-radius: 50%;\n",
              "      cursor: pointer;\n",
              "      display: none;\n",
              "      fill: #1967D2;\n",
              "      height: 32px;\n",
              "      padding: 0 0 0 0;\n",
              "      width: 32px;\n",
              "    }\n",
              "\n",
              "    .colab-df-convert:hover {\n",
              "      background-color: #E2EBFA;\n",
              "      box-shadow: 0px 1px 2px rgba(60, 64, 67, 0.3), 0px 1px 3px 1px rgba(60, 64, 67, 0.15);\n",
              "      fill: #174EA6;\n",
              "    }\n",
              "\n",
              "    .colab-df-buttons div {\n",
              "      margin-bottom: 4px;\n",
              "    }\n",
              "\n",
              "    [theme=dark] .colab-df-convert {\n",
              "      background-color: #3B4455;\n",
              "      fill: #D2E3FC;\n",
              "    }\n",
              "\n",
              "    [theme=dark] .colab-df-convert:hover {\n",
              "      background-color: #434B5C;\n",
              "      box-shadow: 0px 1px 3px 1px rgba(0, 0, 0, 0.15);\n",
              "      filter: drop-shadow(0px 1px 2px rgba(0, 0, 0, 0.3));\n",
              "      fill: #FFFFFF;\n",
              "    }\n",
              "  </style>\n",
              "\n",
              "    <script>\n",
              "      const buttonEl =\n",
              "        document.querySelector('#df-4fe57d28-2116-471a-b6a2-46dbb5fb7a81 button.colab-df-convert');\n",
              "      buttonEl.style.display =\n",
              "        google.colab.kernel.accessAllowed ? 'block' : 'none';\n",
              "\n",
              "      async function convertToInteractive(key) {\n",
              "        const element = document.querySelector('#df-4fe57d28-2116-471a-b6a2-46dbb5fb7a81');\n",
              "        const dataTable =\n",
              "          await google.colab.kernel.invokeFunction('convertToInteractive',\n",
              "                                                    [key], {});\n",
              "        if (!dataTable) return;\n",
              "\n",
              "        const docLinkHtml = 'Like what you see? Visit the ' +\n",
              "          '<a target=\"_blank\" href=https://colab.research.google.com/notebooks/data_table.ipynb>data table notebook</a>'\n",
              "          + ' to learn more about interactive tables.';\n",
              "        element.innerHTML = '';\n",
              "        dataTable['output_type'] = 'display_data';\n",
              "        await google.colab.output.renderOutput(dataTable, element);\n",
              "        const docLink = document.createElement('div');\n",
              "        docLink.innerHTML = docLinkHtml;\n",
              "        element.appendChild(docLink);\n",
              "      }\n",
              "    </script>\n",
              "  </div>\n",
              "\n",
              "\n",
              "<div id=\"df-8f9a367d-3a1d-4770-9c61-cf89ac73cb29\">\n",
              "  <button class=\"colab-df-quickchart\" onclick=\"quickchart('df-8f9a367d-3a1d-4770-9c61-cf89ac73cb29')\"\n",
              "            title=\"Suggest charts\"\n",
              "            style=\"display:none;\">\n",
              "\n",
              "<svg xmlns=\"http://www.w3.org/2000/svg\" height=\"24px\"viewBox=\"0 0 24 24\"\n",
              "     width=\"24px\">\n",
              "    <g>\n",
              "        <path d=\"M19 3H5c-1.1 0-2 .9-2 2v14c0 1.1.9 2 2 2h14c1.1 0 2-.9 2-2V5c0-1.1-.9-2-2-2zM9 17H7v-7h2v7zm4 0h-2V7h2v10zm4 0h-2v-4h2v4z\"/>\n",
              "    </g>\n",
              "</svg>\n",
              "  </button>\n",
              "\n",
              "<style>\n",
              "  .colab-df-quickchart {\n",
              "      --bg-color: #E8F0FE;\n",
              "      --fill-color: #1967D2;\n",
              "      --hover-bg-color: #E2EBFA;\n",
              "      --hover-fill-color: #174EA6;\n",
              "      --disabled-fill-color: #AAA;\n",
              "      --disabled-bg-color: #DDD;\n",
              "  }\n",
              "\n",
              "  [theme=dark] .colab-df-quickchart {\n",
              "      --bg-color: #3B4455;\n",
              "      --fill-color: #D2E3FC;\n",
              "      --hover-bg-color: #434B5C;\n",
              "      --hover-fill-color: #FFFFFF;\n",
              "      --disabled-bg-color: #3B4455;\n",
              "      --disabled-fill-color: #666;\n",
              "  }\n",
              "\n",
              "  .colab-df-quickchart {\n",
              "    background-color: var(--bg-color);\n",
              "    border: none;\n",
              "    border-radius: 50%;\n",
              "    cursor: pointer;\n",
              "    display: none;\n",
              "    fill: var(--fill-color);\n",
              "    height: 32px;\n",
              "    padding: 0;\n",
              "    width: 32px;\n",
              "  }\n",
              "\n",
              "  .colab-df-quickchart:hover {\n",
              "    background-color: var(--hover-bg-color);\n",
              "    box-shadow: 0 1px 2px rgba(60, 64, 67, 0.3), 0 1px 3px 1px rgba(60, 64, 67, 0.15);\n",
              "    fill: var(--button-hover-fill-color);\n",
              "  }\n",
              "\n",
              "  .colab-df-quickchart-complete:disabled,\n",
              "  .colab-df-quickchart-complete:disabled:hover {\n",
              "    background-color: var(--disabled-bg-color);\n",
              "    fill: var(--disabled-fill-color);\n",
              "    box-shadow: none;\n",
              "  }\n",
              "\n",
              "  .colab-df-spinner {\n",
              "    border: 2px solid var(--fill-color);\n",
              "    border-color: transparent;\n",
              "    border-bottom-color: var(--fill-color);\n",
              "    animation:\n",
              "      spin 1s steps(1) infinite;\n",
              "  }\n",
              "\n",
              "  @keyframes spin {\n",
              "    0% {\n",
              "      border-color: transparent;\n",
              "      border-bottom-color: var(--fill-color);\n",
              "      border-left-color: var(--fill-color);\n",
              "    }\n",
              "    20% {\n",
              "      border-color: transparent;\n",
              "      border-left-color: var(--fill-color);\n",
              "      border-top-color: var(--fill-color);\n",
              "    }\n",
              "    30% {\n",
              "      border-color: transparent;\n",
              "      border-left-color: var(--fill-color);\n",
              "      border-top-color: var(--fill-color);\n",
              "      border-right-color: var(--fill-color);\n",
              "    }\n",
              "    40% {\n",
              "      border-color: transparent;\n",
              "      border-right-color: var(--fill-color);\n",
              "      border-top-color: var(--fill-color);\n",
              "    }\n",
              "    60% {\n",
              "      border-color: transparent;\n",
              "      border-right-color: var(--fill-color);\n",
              "    }\n",
              "    80% {\n",
              "      border-color: transparent;\n",
              "      border-right-color: var(--fill-color);\n",
              "      border-bottom-color: var(--fill-color);\n",
              "    }\n",
              "    90% {\n",
              "      border-color: transparent;\n",
              "      border-bottom-color: var(--fill-color);\n",
              "    }\n",
              "  }\n",
              "</style>\n",
              "\n",
              "  <script>\n",
              "    async function quickchart(key) {\n",
              "      const quickchartButtonEl =\n",
              "        document.querySelector('#' + key + ' button');\n",
              "      quickchartButtonEl.disabled = true;  // To prevent multiple clicks.\n",
              "      quickchartButtonEl.classList.add('colab-df-spinner');\n",
              "      try {\n",
              "        const charts = await google.colab.kernel.invokeFunction(\n",
              "            'suggestCharts', [key], {});\n",
              "      } catch (error) {\n",
              "        console.error('Error during call to suggestCharts:', error);\n",
              "      }\n",
              "      quickchartButtonEl.classList.remove('colab-df-spinner');\n",
              "      quickchartButtonEl.classList.add('colab-df-quickchart-complete');\n",
              "    }\n",
              "    (() => {\n",
              "      let quickchartButtonEl =\n",
              "        document.querySelector('#df-8f9a367d-3a1d-4770-9c61-cf89ac73cb29 button');\n",
              "      quickchartButtonEl.style.display =\n",
              "        google.colab.kernel.accessAllowed ? 'block' : 'none';\n",
              "    })();\n",
              "  </script>\n",
              "</div>\n",
              "    </div>\n",
              "  </div>\n"
            ],
            "text/plain": [
              "                                               image  label\n",
              "0  {'bytes': b'\\xff\\xd8\\xff\\xe0\\x00\\x10JFIF\\x00\\x...      6\n",
              "1  {'bytes': b'\\xff\\xd8\\xff\\xe0\\x00\\x10JFIF\\x00\\x...      6\n",
              "2  {'bytes': b'\\xff\\xd8\\xff\\xe0\\x00\\x10JFIF\\x00\\x...      6\n",
              "3  {'bytes': b'\\xff\\xd8\\xff\\xe0\\x00\\x10JFIF\\x00\\x...      6\n",
              "4  {'bytes': b'\\xff\\xd8\\xff\\xe0\\x00\\x10JFIF\\x00\\x...      6"
            ]
          },
          "execution_count": 9,
          "metadata": {},
          "output_type": "execute_result"
        }
      ],
      "source": [
        "val_data.head()"
      ]
    },
    {
      "cell_type": "code",
      "execution_count": null,
      "id": "67c5a1b5",
      "metadata": {
        "colab": {
          "base_uri": "https://localhost:8080/"
        },
        "id": "67c5a1b5",
        "outputId": "6eeaddac-f8d8-4ca8-ce97-211e4bc100fc"
      },
      "outputs": [
        {
          "data": {
            "text/plain": [
              "Index(['image', 'label'], dtype='object')"
            ]
          },
          "execution_count": 10,
          "metadata": {},
          "output_type": "execute_result"
        }
      ],
      "source": [
        "val_data.columns"
      ]
    },
    {
      "cell_type": "code",
      "execution_count": null,
      "id": "97f3bd44",
      "metadata": {
        "colab": {
          "base_uri": "https://localhost:8080/"
        },
        "id": "97f3bd44",
        "outputId": "1ca883f8-8eb1-4bba-eda6-70501e3ed50e"
      },
      "outputs": [
        {
          "data": {
            "text/plain": [
              "array([  6,  79,  81,  53,  10,  20,  77,  48,  86,  84,  76,  34,  51,\n",
              "        21,  64,   0,  43,  44,  73,  57,  14,   5,  46,  55,  93,  98,\n",
              "        38,  11,  99,  72,  22,  59,  70,  16,   2,  58,  83,  96,  39,\n",
              "        49,  45,  88,   9,  26,  94,   4,  65,  32,  27,  36,  87,  69,\n",
              "        85,  25,  40,  19,  35,  56,  42,  60,  68, 100,  41,  92,  24,\n",
              "         3,  89,  75,  17,  97,  61,  33,  80,  30,   8,  74,  66,  31,\n",
              "        18,  67,  37,  13,  63,  28,  47,  52,  54,   1,  82,  91,  95,\n",
              "         7,  29,  78,  15,  23,  12,  62,  50,  71,  90])"
            ]
          },
          "execution_count": 11,
          "metadata": {},
          "output_type": "execute_result"
        }
      ],
      "source": [
        "val_data.label.unique()"
      ]
    },
    {
      "cell_type": "code",
      "execution_count": null,
      "id": "45cb459f",
      "metadata": {
        "colab": {
          "base_uri": "https://localhost:8080/"
        },
        "id": "45cb459f",
        "outputId": "c4e7d5dd-a6c9-439f-f6b9-9d8229d59b17"
      },
      "outputs": [
        {
          "data": {
            "text/plain": [
              "array([  6,  79,  81,  53,  10,  20,  77,  48,  86,  84,  76,  34,  51,\n",
              "        21,  64,   0,  43,  44,  73,  57,  14,   5,  46,  55,  93,  98,\n",
              "        38,  11,  99,  72,  22,  59,  70,  16,   2,  58,  83,  96,  39,\n",
              "        49,  45,  88,   9,  26,  94,   4,  65,  32,  27,  36,  87,  69,\n",
              "        85,  25,  40,  19,  35,  56,  42,  60,  68, 100,  41,  92,  24,\n",
              "         3,  89,  75,  17,  97,  61,  33,  80,  30,   8,  74,  66,  31,\n",
              "        18,  67,  37,  13,  63,  28,  47,  52,  54,   1,  82,  91,  95,\n",
              "         7,  29,  78,  15,  23,  12,  62,  50,  71,  90])"
            ]
          },
          "execution_count": 12,
          "metadata": {},
          "output_type": "execute_result"
        }
      ],
      "source": [
        "train_data.label.unique()"
      ]
    },
    {
      "cell_type": "code",
      "execution_count": null,
      "id": "7npCv8skmESz",
      "metadata": {
        "id": "7npCv8skmESz"
      },
      "outputs": [],
      "source": [
        "val_data.reset_index(inplace=True)\n",
        "train_data.reset_index(inplace=True)"
      ]
    },
    {
      "cell_type": "code",
      "execution_count": null,
      "id": "CvTx3eFWr5hP",
      "metadata": {
        "id": "CvTx3eFWr5hP"
      },
      "outputs": [],
      "source": [
        "train_data.drop([18508, 23754, 56094], axis=0, inplace=True)"
      ]
    },
    {
      "cell_type": "code",
      "execution_count": null,
      "id": "i7rYgxOJ6QMd",
      "metadata": {
        "id": "i7rYgxOJ6QMd"
      },
      "outputs": [],
      "source": [
        "val_data.reset_index(inplace=True)\n",
        "train_data.reset_index(inplace=True)"
      ]
    },
    {
      "cell_type": "code",
      "execution_count": null,
      "id": "44060e24",
      "metadata": {
        "id": "44060e24"
      },
      "outputs": [],
      "source": [
        "transform = transforms.Compose([\n",
        "    transforms.Resize((IMAGE_SIZE, IMAGE_SIZE)),\n",
        "    transforms.ToTensor()])"
      ]
    },
    {
      "cell_type": "code",
      "execution_count": null,
      "id": "e4bf6d10",
      "metadata": {
        "id": "e4bf6d10"
      },
      "outputs": [],
      "source": [
        "class Custom_Dataset(torch.utils.data.Dataset):\n",
        "    def __init__(self, x, y, trans):\n",
        "        self.x = x\n",
        "        self.y = y\n",
        "        self.trans = trans\n",
        "\n",
        "\n",
        "    def __len__(self):\n",
        "        return self.y.shape[0]\n",
        "\n",
        "\n",
        "    def __getitem__(self, index):\n",
        "        image = Image.open(io.BytesIO(self.x[index][\"bytes\"]))\n",
        "\n",
        "        return self.trans(image), self.y[index]"
      ]
    },
    {
      "cell_type": "code",
      "execution_count": null,
      "id": "2490c2f0",
      "metadata": {
        "id": "2490c2f0"
      },
      "outputs": [],
      "source": [
        "val_dataset = Custom_Dataset(val_data[\"image\"], val_data.label, transform)\n",
        "train_dataset = Custom_Dataset(train_data[\"image\"], train_data.label, transform)"
      ]
    },
    {
      "cell_type": "code",
      "execution_count": null,
      "id": "1ffed91c",
      "metadata": {
        "id": "1ffed91c"
      },
      "outputs": [],
      "source": [
        "val_data_load = torch.utils.data.DataLoader(val_dataset, batch_size=BATCH_SIZE)\n",
        "train_data_load = torch.utils.data.DataLoader(train_dataset, batch_size=BATCH_SIZE, shuffle=True)"
      ]
    },
    {
      "cell_type": "code",
      "execution_count": null,
      "id": "Aho7slxLHIls",
      "metadata": {
        "colab": {
          "base_uri": "https://localhost:8080/"
        },
        "id": "Aho7slxLHIls",
        "outputId": "f5068981-bfc8-428d-8a1d-c1c681e9b487"
      },
      "outputs": [
        {
          "data": {
            "text/plain": [
              "(3157, 9469)"
            ]
          },
          "execution_count": 20,
          "metadata": {},
          "output_type": "execute_result"
        }
      ],
      "source": [
        "len(val_data_load), len(train_data_load)"
      ]
    },
    {
      "cell_type": "code",
      "execution_count": null,
      "id": "087625b4",
      "metadata": {
        "colab": {
          "base_uri": "https://localhost:8080/"
        },
        "id": "087625b4",
        "outputId": "d49b9456-e45b-4205-e69b-7ac6722944a8"
      },
      "outputs": [
        {
          "data": {
            "text/plain": [
              "torch.Size([8, 3, 128, 128])"
            ]
          },
          "execution_count": 21,
          "metadata": {},
          "output_type": "execute_result"
        }
      ],
      "source": [
        "next(iter(train_data_load))[0].shape"
      ]
    },
    {
      "cell_type": "code",
      "execution_count": null,
      "id": "4adaca72",
      "metadata": {
        "colab": {
          "base_uri": "https://localhost:8080/",
          "height": 807
        },
        "id": "4adaca72",
        "outputId": "d983e7c6-22cb-4261-e63b-94acfea53b5a"
      },
      "outputs": [
        {
          "data": {
            "image/png": "[encoded data removed]",
            "text/plain": [
              "<Figure size 1000x1000 with 1 Axes>"
            ]
          },
          "metadata": {},
          "output_type": "display_data"
        }
      ],
      "source": [
        "index = random.randint(0, len(train_dataset) - 1)\n",
        "\n",
        "image = train_dataset[index][0].permute(1, 2, 0).detach().cpu().numpy()\n",
        "\n",
        "plt.figure(figsize=(10, 10))\n",
        "\n",
        "plt.imshow(image)\n",
        "plt.axis(False)\n",
        "plt.show()"
      ]
    },
    {
      "cell_type": "code",
      "execution_count": null,
      "id": "uGGrQGrvkUrr",
      "metadata": {
        "id": "uGGrQGrvkUrr"
      },
      "outputs": [],
      "source": [
        "def init_model(model):\n",
        "    for par in model.parameters():\n",
        "        if par.requires_grad:\n",
        "            torch.nn.init.normal_(par, 0, 0.2)\n",
        "\n",
        "    return model"
      ]
    },
    {
      "cell_type": "code",
      "execution_count": null,
      "id": "f2fec6d0",
      "metadata": {
        "id": "f2fec6d0"
      },
      "outputs": [],
      "source": [
        "class ConvResBlock(torch.nn.Module):\n",
        "    def __init__(self, channels, kernel=3, l=4):\n",
        "        super().__init__()\n",
        "\n",
        "        self.convs = torch.nn.ModuleList([self.__mini_conv_block(channels, kernel) for _ in range(l)])\n",
        "\n",
        "\n",
        "    def __mini_conv_block(self, channels, kernel):\n",
        "        return torch.nn.Sequential(\n",
        "            torch.nn.Conv2d(channels, channels, kernel, 1, padding=\"same\", padding_mode=\"reflect\"),\n",
        "            torch.nn.BatchNorm2d(channels),\n",
        "            torch.nn.LeakyReLU()\n",
        "        )\n",
        "\n",
        "\n",
        "    def forward(self, x):\n",
        "        for conv in self.convs:\n",
        "            x = conv(x) + x\n",
        "\n",
        "        return x"
      ]
    },
    {
      "cell_type": "code",
      "execution_count": null,
      "id": "b74207a5",
      "metadata": {
        "id": "b74207a5"
      },
      "outputs": [],
      "source": [
        "class DCNN(torch.nn.Module):\n",
        "    def __init__(self, in_channels, hidden_channels, classes, L=[4, 3, 2]):\n",
        "        super().__init__()\n",
        "\n",
        "        self.in_channels = in_channels\n",
        "        self.hidden_channels = hidden_channels\n",
        "        self.L = L\n",
        "        self.classes = classes\n",
        "\n",
        "\n",
        "        self.start = torch.nn.Sequential(\n",
        "            torch.nn.Conv2d(self.in_channels, self.hidden_channels, 3, 1, padding=\"same\", padding_mode=\"reflect\"),\n",
        "            torch.nn.BatchNorm2d(self.hidden_channels),\n",
        "            torch.nn.LeakyReLU()\n",
        "        )\n",
        "\n",
        "        self.hidden = torch.nn.Sequential(*[torch.nn.Sequential(torch.nn.Conv2d(self.hidden_channels // (2 ** (i - 1)), self.hidden_channels // (2 ** i), 3, 1, padding=\"same\", padding_mode=\"reflect\"),\n",
        "                                                                ConvResBlock(self.hidden_channels // (2 ** i), 3, l),\n",
        "                                                                torch.nn.MaxPool2d(2, 2)) for i, l in enumerate(L, 1)])\n",
        "\n",
        "        self.final = torch.nn.Sequential(\n",
        "            torch.nn.Conv2d(self.hidden_channels // (2 ** (len(self.L))), self.classes, 4, 1),\n",
        "            torch.nn.Flatten(),\n",
        "            torch.nn.Softmax(dim=-1)\n",
        "        )\n",
        "\n",
        "\n",
        "    def forward(self, x):\n",
        "        x = self.start(x)\n",
        "        x = self.hidden(x)\n",
        "        x = self.final(x)\n",
        "\n",
        "        return x"
      ]
    },
    {
      "cell_type": "code",
      "execution_count": null,
      "id": "d45279cf",
      "metadata": {
        "id": "d45279cf"
      },
      "outputs": [],
      "source": [
        "model = DCNN(3, 128, 101, L=[1, 1, 1, 1, 1]).to(device)"
      ]
    },
    {
      "cell_type": "code",
      "execution_count": null,
      "id": "429caefe",
      "metadata": {
        "colab": {
          "base_uri": "https://localhost:8080/"
        },
        "id": "429caefe",
        "outputId": "09ed1e6e-ee76-40fa-c637-a537827a9ce5"
      },
      "outputs": [
        {
          "data": {
            "text/plain": [
              "DCNN(\n",
              "  (start): Sequential(\n",
              "    (0): Conv2d(3, 128, kernel_size=(3, 3), stride=(1, 1), padding=same, padding_mode=reflect)\n",
              "    (1): BatchNorm2d(128, eps=1e-05, momentum=0.1, affine=True, track_running_stats=True)\n",
              "    (2): LeakyReLU(negative_slope=0.01)\n",
              "  )\n",
              "  (hidden): Sequential(\n",
              "    (0): Sequential(\n",
              "      (0): Conv2d(128, 64, kernel_size=(3, 3), stride=(1, 1), padding=same, padding_mode=reflect)\n",
              "      (1): ConvResBlock(\n",
              "        (convs): ModuleList(\n",
              "          (0): Sequential(\n",
              "            (0): Conv2d(64, 64, kernel_size=(3, 3), stride=(1, 1), padding=same, padding_mode=reflect)\n",
              "            (1): BatchNorm2d(64, eps=1e-05, momentum=0.1, affine=True, track_running_stats=True)\n",
              "            (2): LeakyReLU(negative_slope=0.01)\n",
              "          )\n",
              "        )\n",
              "      )\n",
              "      (2): MaxPool2d(kernel_size=2, stride=2, padding=0, dilation=1, ceil_mode=False)\n",
              "    )\n",
              "    (1): Sequential(\n",
              "      (0): Conv2d(64, 32, kernel_size=(3, 3), stride=(1, 1), padding=same, padding_mode=reflect)\n",
              "      (1): ConvResBlock(\n",
              "        (convs): ModuleList(\n",
              "          (0): Sequential(\n",
              "            (0): Conv2d(32, 32, kernel_size=(3, 3), stride=(1, 1), padding=same, padding_mode=reflect)\n",
              "            (1): BatchNorm2d(32, eps=1e-05, momentum=0.1, affine=True, track_running_stats=True)\n",
              "            (2): LeakyReLU(negative_slope=0.01)\n",
              "          )\n",
              "        )\n",
              "      )\n",
              "      (2): MaxPool2d(kernel_size=2, stride=2, padding=0, dilation=1, ceil_mode=False)\n",
              "    )\n",
              "    (2): Sequential(\n",
              "      (0): Conv2d(32, 16, kernel_size=(3, 3), stride=(1, 1), padding=same, padding_mode=reflect)\n",
              "      (1): ConvResBlock(\n",
              "        (convs): ModuleList(\n",
              "          (0): Sequential(\n",
              "            (0): Conv2d(16, 16, kernel_size=(3, 3), stride=(1, 1), padding=same, padding_mode=reflect)\n",
              "            (1): BatchNorm2d(16, eps=1e-05, momentum=0.1, affine=True, track_running_stats=True)\n",
              "            (2): LeakyReLU(negative_slope=0.01)\n",
              "          )\n",
              "        )\n",
              "      )\n",
              "      (2): MaxPool2d(kernel_size=2, stride=2, padding=0, dilation=1, ceil_mode=False)\n",
              "    )\n",
              "    (3): Sequential(\n",
              "      (0): Conv2d(16, 8, kernel_size=(3, 3), stride=(1, 1), padding=same, padding_mode=reflect)\n",
              "      (1): ConvResBlock(\n",
              "        (convs): ModuleList(\n",
              "          (0): Sequential(\n",
              "            (0): Conv2d(8, 8, kernel_size=(3, 3), stride=(1, 1), padding=same, padding_mode=reflect)\n",
              "            (1): BatchNorm2d(8, eps=1e-05, momentum=0.1, affine=True, track_running_stats=True)\n",
              "            (2): LeakyReLU(negative_slope=0.01)\n",
              "          )\n",
              "        )\n",
              "      )\n",
              "      (2): MaxPool2d(kernel_size=2, stride=2, padding=0, dilation=1, ceil_mode=False)\n",
              "    )\n",
              "    (4): Sequential(\n",
              "      (0): Conv2d(8, 4, kernel_size=(3, 3), stride=(1, 1), padding=same, padding_mode=reflect)\n",
              "      (1): ConvResBlock(\n",
              "        (convs): ModuleList(\n",
              "          (0): Sequential(\n",
              "            (0): Conv2d(4, 4, kernel_size=(3, 3), stride=(1, 1), padding=same, padding_mode=reflect)\n",
              "            (1): BatchNorm2d(4, eps=1e-05, momentum=0.1, affine=True, track_running_stats=True)\n",
              "            (2): LeakyReLU(negative_slope=0.01)\n",
              "          )\n",
              "        )\n",
              "      )\n",
              "      (2): MaxPool2d(kernel_size=2, stride=2, padding=0, dilation=1, ceil_mode=False)\n",
              "    )\n",
              "  )\n",
              "  (final): Sequential(\n",
              "    (0): Conv2d(4, 101, kernel_size=(4, 4), stride=(1, 1))\n",
              "    (1): Flatten(start_dim=1, end_dim=-1)\n",
              "    (2): Softmax(dim=-1)\n",
              "  )\n",
              ")"
            ]
          },
          "execution_count": 27,
          "metadata": {},
          "output_type": "execute_result"
        }
      ],
      "source": [
        "model"
      ]
    },
    {
      "cell_type": "code",
      "execution_count": null,
      "id": "8c2c2ede",
      "metadata": {
        "id": "8c2c2ede"
      },
      "outputs": [],
      "source": [
        "noice = torch.randn(BATCH_SIZE, 3, IMAGE_SIZE, IMAGE_SIZE).to(device)"
      ]
    },
    {
      "cell_type": "code",
      "execution_count": null,
      "id": "b9ab9951",
      "metadata": {
        "colab": {
          "base_uri": "https://localhost:8080/"
        },
        "id": "b9ab9951",
        "outputId": "0f17398d-71f2-464c-de5e-6ca8772e5f2f"
      },
      "outputs": [
        {
          "name": "stdout",
          "output_type": "stream",
          "text": [
            "CPU times: user 845 ms, sys: 590 ms, total: 1.44 s\n",
            "Wall time: 1.63 s\n"
          ]
        },
        {
          "data": {
            "text/plain": [
              "torch.Size([8, 101])"
            ]
          },
          "execution_count": 29,
          "metadata": {},
          "output_type": "execute_result"
        }
      ],
      "source": [
        "%%time\n",
        "\n",
        "\n",
        "model(noice).shape"
      ]
    },
    {
      "cell_type": "code",
      "execution_count": null,
      "id": "mADiFKze-rJI",
      "metadata": {
        "id": "mADiFKze-rJI"
      },
      "outputs": [],
      "source": [
        "def count_parameters(model):\n",
        "    return sum(p.numel() for p in model.parameters() if p.requires_grad)"
      ]
    },
    {
      "cell_type": "code",
      "execution_count": null,
      "id": "3s7ZPip_-wi7",
      "metadata": {
        "colab": {
          "base_uri": "https://localhost:8080/"
        },
        "id": "3s7ZPip_-wi7",
        "outputId": "201b3c3b-18a6-4737-b564-cb2d4f3432b8"
      },
      "outputs": [
        {
          "data": {
            "text/plain": [
              "158213"
            ]
          },
          "execution_count": 31,
          "metadata": {},
          "output_type": "execute_result"
        }
      ],
      "source": [
        "count_parameters(model)"
      ]
    },
    {
      "cell_type": "code",
      "execution_count": null,
      "id": "818a820d",
      "metadata": {
        "id": "818a820d"
      },
      "outputs": [],
      "source": [
        "loss_f = torch.nn.CrossEntropyLoss()\n",
        "opti = torch.optim.Adam(model.parameters(), lr=LR)"
      ]
    },
    {
      "cell_type": "code",
      "execution_count": null,
      "id": "983c3f1c",
      "metadata": {
        "id": "983c3f1c"
      },
      "outputs": [],
      "source": [
        "def train(model, train_data_load, loss_f, opti, epochs=5, per_vis=0.1):\n",
        "    start_time = time.time()\n",
        "    per_vis = int(1 / per_vis)\n",
        "\n",
        "    history_train_loss = []\n",
        "    history_train_acc = []\n",
        "\n",
        "\n",
        "    for epoch in range(1, epochs + 1):\n",
        "        model.train()\n",
        "\n",
        "        total_train_loss = 0\n",
        "        total_train_acc = 0\n",
        "\n",
        "        for batch_i, (x, y) in enumerate(iter(train_data_load), 1):\n",
        "            x, y = x.to(device), y.to(device)\n",
        "\n",
        "            pred = model(x)\n",
        "\n",
        "            loss = loss_f(pred, y)\n",
        "\n",
        "            opti.zero_grad()\n",
        "            loss.backward()\n",
        "            opti.step()\n",
        "\n",
        "            history_train_loss.append(loss.item())\n",
        "            history_train_acc.append((pred.detach().argmax(dim=-1) == y).sum() / BATCH_SIZE)\n",
        "\n",
        "            total_train_loss += loss.item()\n",
        "            total_train_acc += (pred.detach().argmax(dim=-1) == y).sum() / BATCH_SIZE\n",
        "\n",
        "            if batch_i % (len(train_data_load) // per_vis) == 0:\n",
        "                total_train_loss /= len(train_data_load) // per_vis\n",
        "                total_train_acc /= len(train_data_load) // per_vis\n",
        "\n",
        "\n",
        "                end_time = time.time()\n",
        "                work_time = time.strftime(\"%H:%M:%S\", time.gmtime(end_time - start_time))\n",
        "                start_time = time.time()\n",
        "\n",
        "                clear_output()\n",
        "\n",
        "                print(f\"[Epoch: {epoch}/{epochs}; batch: {batch_i}/{len(train_data_load)}; time: {work_time}; train_loss: {total_train_loss}; train_acc: {total_train_acc}]\")\n",
        "                torch.save(model, os.path.join(SAVE_DIR, f\"modele{epoch}:{batch_i}.pt\"))\n",
        "\n",
        "                fig, axis = plt.subplots(nrows=2, ncols=1, figsize=(20, 10))\n",
        "\n",
        "                axis[0].plot(history_train_loss, c=\"blue\")\n",
        "                axis[0].set_title(\"Train loss\")\n",
        "\n",
        "                axis[1].plot(history_train_acc, c=\"orange\")\n",
        "                axis[1].set_title(\"Train acc\")\n",
        "                plt.show()\n",
        "\n",
        "                total_train_loss = 0\n",
        "                total_train_acc = 0\n",
        "\n",
        "    return history_train_loss, history_train_acc"
      ]
    },
    {
      "cell_type": "code",
      "execution_count": null,
      "id": "mp7x-ntYobJf",
      "metadata": {
        "id": "mp7x-ntYobJf"
      },
      "outputs": [],
      "source": [
        "def eval(model, val_data_load, loss_f):\n",
        "    total_test_loss = 0\n",
        "    total_test_acc = 0\n",
        "\n",
        "\n",
        "    model.eval()\n",
        "    for x, y in iter(val_data_load):\n",
        "        with torch.inference_mode():\n",
        "            pred = model(x)\n",
        "            loss = loss_f(pred, y)\n",
        "\n",
        "        total_test_loss += loss.item()\n",
        "        total_test_acc += (pred.detach().argmax(dim=-1) == y).sum() / BATCH_SIZE\n",
        "\n",
        "    total_test_loss /= len(val_data_load)\n",
        "    total_test_acc /= len(val_data_load)\n",
        "\n",
        "    model.train()\n",
        "\n",
        "    return total_test_loss, total_test_acc"
      ]
    },
    {
      "cell_type": "code",
      "execution_count": null,
      "id": "AJ5h2ZO8aQCH",
      "metadata": {
        "colab": {
          "base_uri": "https://localhost:8080/",
          "height": 287
        },
        "id": "AJ5h2ZO8aQCH",
        "outputId": "9795744a-7d4a-4cbb-8241-f6d17ffb60f0"
      },
      "outputs": [
        {
          "ename": "FileNotFoundError",
          "evalue": "[Errno 2] No such file or directory: '/content/drive/MyDrive/models/modele10:70.pt'",
          "output_type": "error",
          "traceback": [
            "\u001b[0;31m---------------------------------------------------------------------------\u001b[0m",
            "\u001b[0;31mFileNotFoundError\u001b[0m                         Traceback (most recent call last)",
            "\u001b[0;32m<ipython-input-35-c84d106ee497>\u001b[0m in \u001b[0;36m<cell line: 1>\u001b[0;34m()\u001b[0m\n\u001b[0;32m----> 1\u001b[0;31m \u001b[0mmodel\u001b[0m \u001b[0;34m=\u001b[0m \u001b[0mtorch\u001b[0m\u001b[0;34m.\u001b[0m\u001b[0mload\u001b[0m\u001b[0;34m(\u001b[0m\u001b[0mos\u001b[0m\u001b[0;34m.\u001b[0m\u001b[0mpath\u001b[0m\u001b[0;34m.\u001b[0m\u001b[0mjoin\u001b[0m\u001b[0;34m(\u001b[0m\u001b[0mSAVE_DIR\u001b[0m\u001b[0;34m,\u001b[0m \u001b[0;34m\"modele10:70.pt\"\u001b[0m\u001b[0;34m)\u001b[0m\u001b[0;34m)\u001b[0m\u001b[0;34m\u001b[0m\u001b[0;34m\u001b[0m\u001b[0m\n\u001b[0m",
            "\u001b[0;32m/usr/local/lib/python3.10/dist-packages/torch/serialization.py\u001b[0m in \u001b[0;36mload\u001b[0;34m(f, map_location, pickle_module, weights_only, mmap, **pickle_load_args)\u001b[0m\n\u001b[1;32m    996\u001b[0m         \u001b[0mpickle_load_args\u001b[0m\u001b[0;34m[\u001b[0m\u001b[0;34m'encoding'\u001b[0m\u001b[0;34m]\u001b[0m \u001b[0;34m=\u001b[0m \u001b[0;34m'utf-8'\u001b[0m\u001b[0;34m\u001b[0m\u001b[0;34m\u001b[0m\u001b[0m\n\u001b[1;32m    997\u001b[0m \u001b[0;34m\u001b[0m\u001b[0m\n\u001b[0;32m--> 998\u001b[0;31m     \u001b[0;32mwith\u001b[0m \u001b[0m_open_file_like\u001b[0m\u001b[0;34m(\u001b[0m\u001b[0mf\u001b[0m\u001b[0;34m,\u001b[0m \u001b[0;34m'rb'\u001b[0m\u001b[0;34m)\u001b[0m \u001b[0;32mas\u001b[0m \u001b[0mopened_file\u001b[0m\u001b[0;34m:\u001b[0m\u001b[0;34m\u001b[0m\u001b[0;34m\u001b[0m\u001b[0m\n\u001b[0m\u001b[1;32m    999\u001b[0m         \u001b[0;32mif\u001b[0m \u001b[0m_is_zipfile\u001b[0m\u001b[0;34m(\u001b[0m\u001b[0mopened_file\u001b[0m\u001b[0;34m)\u001b[0m\u001b[0;34m:\u001b[0m\u001b[0;34m\u001b[0m\u001b[0;34m\u001b[0m\u001b[0m\n\u001b[1;32m   1000\u001b[0m             \u001b[0;31m# The zipfile reader is going to advance the current file position.\u001b[0m\u001b[0;34m\u001b[0m\u001b[0;34m\u001b[0m\u001b[0m\n",
            "\u001b[0;32m/usr/local/lib/python3.10/dist-packages/torch/serialization.py\u001b[0m in \u001b[0;36m_open_file_like\u001b[0;34m(name_or_buffer, mode)\u001b[0m\n\u001b[1;32m    443\u001b[0m \u001b[0;32mdef\u001b[0m \u001b[0m_open_file_like\u001b[0m\u001b[0;34m(\u001b[0m\u001b[0mname_or_buffer\u001b[0m\u001b[0;34m,\u001b[0m \u001b[0mmode\u001b[0m\u001b[0;34m)\u001b[0m\u001b[0;34m:\u001b[0m\u001b[0;34m\u001b[0m\u001b[0;34m\u001b[0m\u001b[0m\n\u001b[1;32m    444\u001b[0m     \u001b[0;32mif\u001b[0m \u001b[0m_is_path\u001b[0m\u001b[0;34m(\u001b[0m\u001b[0mname_or_buffer\u001b[0m\u001b[0;34m)\u001b[0m\u001b[0;34m:\u001b[0m\u001b[0;34m\u001b[0m\u001b[0;34m\u001b[0m\u001b[0m\n\u001b[0;32m--> 445\u001b[0;31m         \u001b[0;32mreturn\u001b[0m \u001b[0m_open_file\u001b[0m\u001b[0;34m(\u001b[0m\u001b[0mname_or_buffer\u001b[0m\u001b[0;34m,\u001b[0m \u001b[0mmode\u001b[0m\u001b[0;34m)\u001b[0m\u001b[0;34m\u001b[0m\u001b[0;34m\u001b[0m\u001b[0m\n\u001b[0m\u001b[1;32m    446\u001b[0m     \u001b[0;32melse\u001b[0m\u001b[0;34m:\u001b[0m\u001b[0;34m\u001b[0m\u001b[0;34m\u001b[0m\u001b[0m\n\u001b[1;32m    447\u001b[0m         \u001b[0;32mif\u001b[0m \u001b[0;34m'w'\u001b[0m \u001b[0;32min\u001b[0m \u001b[0mmode\u001b[0m\u001b[0;34m:\u001b[0m\u001b[0;34m\u001b[0m\u001b[0;34m\u001b[0m\u001b[0m\n",
            "\u001b[0;32m/usr/local/lib/python3.10/dist-packages/torch/serialization.py\u001b[0m in \u001b[0;36m__init__\u001b[0;34m(self, name, mode)\u001b[0m\n\u001b[1;32m    424\u001b[0m \u001b[0;32mclass\u001b[0m \u001b[0m_open_file\u001b[0m\u001b[0;34m(\u001b[0m\u001b[0m_opener\u001b[0m\u001b[0;34m)\u001b[0m\u001b[0;34m:\u001b[0m\u001b[0;34m\u001b[0m\u001b[0;34m\u001b[0m\u001b[0m\n\u001b[1;32m    425\u001b[0m     \u001b[0;32mdef\u001b[0m \u001b[0m__init__\u001b[0m\u001b[0;34m(\u001b[0m\u001b[0mself\u001b[0m\u001b[0;34m,\u001b[0m \u001b[0mname\u001b[0m\u001b[0;34m,\u001b[0m \u001b[0mmode\u001b[0m\u001b[0;34m)\u001b[0m\u001b[0;34m:\u001b[0m\u001b[0;34m\u001b[0m\u001b[0;34m\u001b[0m\u001b[0m\n\u001b[0;32m--> 426\u001b[0;31m         \u001b[0msuper\u001b[0m\u001b[0;34m(\u001b[0m\u001b[0;34m)\u001b[0m\u001b[0;34m.\u001b[0m\u001b[0m__init__\u001b[0m\u001b[0;34m(\u001b[0m\u001b[0mopen\u001b[0m\u001b[0;34m(\u001b[0m\u001b[0mname\u001b[0m\u001b[0;34m,\u001b[0m \u001b[0mmode\u001b[0m\u001b[0;34m)\u001b[0m\u001b[0;34m)\u001b[0m\u001b[0;34m\u001b[0m\u001b[0;34m\u001b[0m\u001b[0m\n\u001b[0m\u001b[1;32m    427\u001b[0m \u001b[0;34m\u001b[0m\u001b[0m\n\u001b[1;32m    428\u001b[0m     \u001b[0;32mdef\u001b[0m \u001b[0m__exit__\u001b[0m\u001b[0;34m(\u001b[0m\u001b[0mself\u001b[0m\u001b[0;34m,\u001b[0m \u001b[0;34m*\u001b[0m\u001b[0margs\u001b[0m\u001b[0;34m)\u001b[0m\u001b[0;34m:\u001b[0m\u001b[0;34m\u001b[0m\u001b[0;34m\u001b[0m\u001b[0m\n",
            "\u001b[0;31mFileNotFoundError\u001b[0m: [Errno 2] No such file or directory: '/content/drive/MyDrive/models/modele10:70.pt'"
          ]
        }
      ],
      "source": [
        "model = torch.load(os.path.join(SAVE_DIR, \"modele10:70.pt\"))"
      ]
    },
    {
      "cell_type": "code",
      "execution_count": 36,
      "id": "aUWGXxmgrMSg",
      "metadata": {
        "colab": {
          "base_uri": "https://localhost:8080/",
          "height": 870
        },
        "id": "aUWGXxmgrMSg",
        "outputId": "946b82a8-26f8-4b87-828b-018af470d4a9"
      },
      "outputs": [
        {
          "output_type": "stream",
          "name": "stdout",
          "text": [
            "[Epoch: 1/10; batch: 432/9469; time: 00:00:30; train_loss: 4.611629062228733; train_acc: 0.013888888992369175]\n"
          ]
        },
        {
          "output_type": "display_data",
          "data": {
            "text/plain": [
              "<Figure size 2000x1000 with 2 Axes>"
            ],
            "image/png": "[encoded data removed]"
          },
          "metadata": {}
        },
        {
          "output_type": "error",
          "ename": "KeyboardInterrupt",
          "evalue": "",
          "traceback": [
            "\u001b[0;31m---------------------------------------------------------------------------\u001b[0m",
            "\u001b[0;31mKeyboardInterrupt\u001b[0m                         Traceback (most recent call last)",
            "\u001b[0;32m<ipython-input-36-be9f661dae1c>\u001b[0m in \u001b[0;36m<cell line: 1>\u001b[0;34m()\u001b[0m\n\u001b[0;32m----> 1\u001b[0;31m \u001b[0mhistory_train_loss\u001b[0m\u001b[0;34m,\u001b[0m \u001b[0mhistory_train_acc\u001b[0m \u001b[0;34m=\u001b[0m \u001b[0mtrain\u001b[0m\u001b[0;34m(\u001b[0m\u001b[0mmodel\u001b[0m\u001b[0;34m,\u001b[0m \u001b[0mtrain_data_load\u001b[0m\u001b[0;34m,\u001b[0m \u001b[0mloss_f\u001b[0m\u001b[0;34m,\u001b[0m \u001b[0mopti\u001b[0m\u001b[0;34m,\u001b[0m \u001b[0mepochs\u001b[0m\u001b[0;34m=\u001b[0m\u001b[0;36m10\u001b[0m\u001b[0;34m,\u001b[0m \u001b[0mper_vis\u001b[0m\u001b[0;34m=\u001b[0m\u001b[0;36m0.001\u001b[0m\u001b[0;34m)\u001b[0m\u001b[0;34m\u001b[0m\u001b[0;34m\u001b[0m\u001b[0m\n\u001b[0m",
            "\u001b[0;32m<ipython-input-33-9f53ad41c0f8>\u001b[0m in \u001b[0;36mtrain\u001b[0;34m(model, train_data_load, loss_f, opti, epochs, per_vis)\u001b[0m\n\u001b[1;32m     21\u001b[0m \u001b[0;34m\u001b[0m\u001b[0m\n\u001b[1;32m     22\u001b[0m             \u001b[0mopti\u001b[0m\u001b[0;34m.\u001b[0m\u001b[0mzero_grad\u001b[0m\u001b[0;34m(\u001b[0m\u001b[0;34m)\u001b[0m\u001b[0;34m\u001b[0m\u001b[0;34m\u001b[0m\u001b[0m\n\u001b[0;32m---> 23\u001b[0;31m             \u001b[0mloss\u001b[0m\u001b[0;34m.\u001b[0m\u001b[0mbackward\u001b[0m\u001b[0;34m(\u001b[0m\u001b[0;34m)\u001b[0m\u001b[0;34m\u001b[0m\u001b[0;34m\u001b[0m\u001b[0m\n\u001b[0m\u001b[1;32m     24\u001b[0m             \u001b[0mopti\u001b[0m\u001b[0;34m.\u001b[0m\u001b[0mstep\u001b[0m\u001b[0;34m(\u001b[0m\u001b[0;34m)\u001b[0m\u001b[0;34m\u001b[0m\u001b[0;34m\u001b[0m\u001b[0m\n\u001b[1;32m     25\u001b[0m \u001b[0;34m\u001b[0m\u001b[0m\n",
            "\u001b[0;32m/usr/local/lib/python3.10/dist-packages/torch/_tensor.py\u001b[0m in \u001b[0;36mbackward\u001b[0;34m(self, gradient, retain_graph, create_graph, inputs)\u001b[0m\n\u001b[1;32m    520\u001b[0m                 \u001b[0minputs\u001b[0m\u001b[0;34m=\u001b[0m\u001b[0minputs\u001b[0m\u001b[0;34m,\u001b[0m\u001b[0;34m\u001b[0m\u001b[0;34m\u001b[0m\u001b[0m\n\u001b[1;32m    521\u001b[0m             )\n\u001b[0;32m--> 522\u001b[0;31m         torch.autograd.backward(\n\u001b[0m\u001b[1;32m    523\u001b[0m             \u001b[0mself\u001b[0m\u001b[0;34m,\u001b[0m \u001b[0mgradient\u001b[0m\u001b[0;34m,\u001b[0m \u001b[0mretain_graph\u001b[0m\u001b[0;34m,\u001b[0m \u001b[0mcreate_graph\u001b[0m\u001b[0;34m,\u001b[0m \u001b[0minputs\u001b[0m\u001b[0;34m=\u001b[0m\u001b[0minputs\u001b[0m\u001b[0;34m\u001b[0m\u001b[0;34m\u001b[0m\u001b[0m\n\u001b[1;32m    524\u001b[0m         )\n",
            "\u001b[0;32m/usr/local/lib/python3.10/dist-packages/torch/autograd/__init__.py\u001b[0m in \u001b[0;36mbackward\u001b[0;34m(tensors, grad_tensors, retain_graph, create_graph, grad_variables, inputs)\u001b[0m\n\u001b[1;32m    264\u001b[0m     \u001b[0;31m# some Python versions print out the first line of a multi-line function\u001b[0m\u001b[0;34m\u001b[0m\u001b[0;34m\u001b[0m\u001b[0m\n\u001b[1;32m    265\u001b[0m     \u001b[0;31m# calls in the traceback and some print out the last line\u001b[0m\u001b[0;34m\u001b[0m\u001b[0;34m\u001b[0m\u001b[0m\n\u001b[0;32m--> 266\u001b[0;31m     Variable._execution_engine.run_backward(  # Calls into the C++ engine to run the backward pass\n\u001b[0m\u001b[1;32m    267\u001b[0m         \u001b[0mtensors\u001b[0m\u001b[0;34m,\u001b[0m\u001b[0;34m\u001b[0m\u001b[0;34m\u001b[0m\u001b[0m\n\u001b[1;32m    268\u001b[0m         \u001b[0mgrad_tensors_\u001b[0m\u001b[0;34m,\u001b[0m\u001b[0;34m\u001b[0m\u001b[0;34m\u001b[0m\u001b[0m\n",
            "\u001b[0;31mKeyboardInterrupt\u001b[0m: "
          ]
        }
      ],
      "source": [
        "history_train_loss, history_train_acc = train(model, train_data_load, loss_f, opti, epochs=10, per_vis=0.001)"
      ]
    },
    {
      "cell_type": "code",
      "execution_count": null,
      "id": "Yq9pjKyjrWY0",
      "metadata": {
        "colab": {
          "base_uri": "https://localhost:8080/"
        },
        "id": "Yq9pjKyjrWY0",
        "outputId": "10b17c4a-7e09-4870-cf64-f7d3c7033789"
      },
      "outputs": [
        {
          "data": {
            "text/plain": [
              "(4.5230388259887695, tensor(0.1061))"
            ]
          },
          "execution_count": 42,
          "metadata": {},
          "output_type": "execute_result"
        }
      ],
      "source": [
        "eval(model, val_data_load, loss_f)"
      ]
    },
    {
      "cell_type": "code",
      "execution_count": null,
      "id": "mFbUhZrXFixv",
      "metadata": {
        "colab": {
          "base_uri": "https://localhost:8080/"
        },
        "id": "mFbUhZrXFixv",
        "outputId": "94de7401-8d9f-431a-b049-e6b43d7dc024"
      },
      "outputs": [
        {
          "name": "stdout",
          "output_type": "stream",
          "text": [
            "1\n",
            "18508\n",
            "1\n",
            "23754\n",
            "1\n",
            "56094\n"
          ]
        }
      ],
      "source": [
        "for index in range(len(train_dataset)):\n",
        "  if train_dataset[index][0].shape[0] == 1:\n",
        "    print(train_dataset[index][0].shape[0])\n",
        "    print(index)"
      ]
    },
    {
      "cell_type": "code",
      "execution_count": null,
      "id": "vexNnsv8njWX",
      "metadata": {
        "id": "vexNnsv8njWX"
      },
      "outputs": [],
      "source": []
    },
    {
      "cell_type": "code",
      "execution_count": null,
      "id": "fXAHJO1GupNt",
      "metadata": {
        "id": "fXAHJO1GupNt"
      },
      "outputs": [],
      "source": []
    }
  ],
  "metadata": {
    "colab": {
      "provenance": []
    },
    "kernelspec": {
      "display_name": "Python 3",
      "name": "python3"
    },
    "language_info": {
      "codemirror_mode": {
        "name": "ipython",
        "version": 3
      },
      "file_extension": ".py",
      "mimetype": "text/x-python",
      "name": "python",
      "nbconvert_exporter": "python",
      "pygments_lexer": "ipython3",
      "version": "3.9.16"
    }
  },
  "nbformat": 4,
  "nbformat_minor": 5
}